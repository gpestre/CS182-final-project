{
 "cells": [
  {
   "cell_type": "code",
   "execution_count": null,
   "metadata": {},
   "outputs": [],
   "source": [
    "%load_ext autoreload\n",
    "%autoreload 2\n"
   ]
  },
  {
   "cell_type": "code",
   "execution_count": null,
   "metadata": {},
   "outputs": [],
   "source": [
    "import numpy as np\n",
    "import pandas as pd\n"
   ]
  },
  {
   "cell_type": "code",
   "execution_count": null,
   "metadata": {},
   "outputs": [],
   "source": [
    "# Modify path to find code directory:\n",
    "import sys\n",
    "sys.path.append('../code/')\n"
   ]
  },
  {
   "cell_type": "code",
   "execution_count": null,
   "metadata": {},
   "outputs": [],
   "source": [
    "from structures import *\n",
    "from datasets import Dataset\n"
   ]
  },
  {
   "cell_type": "code",
   "execution_count": null,
   "metadata": {},
   "outputs": [],
   "source": [
    "# Build agents from recipe:\n",
    "Agent.reset()  # Reset IDs to zero.\n",
    "ds = Dataset(seed=182)\n",
    "ds.recipe1()\n",
    "table = ds.build_agent_table()\n",
    "display(table.head())\n",
    "\n",
    "# Build environment:\n",
    "ds.build_environment(\n",
    "    transition_model = 'reachable',  # Set defaults models.\n",
    "    policy_model = 'random_policy',  # (Can override them when calling build_* directly.)\n",
    ")\n",
    "env = ds.env\n",
    "print(env)\n",
    "\n"
   ]
  },
  {
   "cell_type": "code",
   "execution_count": null,
   "metadata": {},
   "outputs": [],
   "source": [
    "# Build sub-problem with agents from workplace #2:\n",
    "agents = env.get_workplace(workplace_id=1)\n",
    "sub_env = env.build_sub_problem(agents)\n",
    "print(sub_env)\n"
   ]
  },
  {
   "cell_type": "code",
   "execution_count": null,
   "metadata": {},
   "outputs": [],
   "source": [
    "# Build random useful policy (does not require transition matrix):\n",
    "sub_env.build_policy(model='random_useful_policy', n_selected=1)\n",
    "test_state = State(sub_env,vector=[True,True,True,True,True,True,False,False,False,False])\n",
    "sub_env.policy.get_action(test_state)\n"
   ]
  },
  {
   "cell_type": "code",
   "execution_count": null,
   "metadata": {},
   "outputs": [],
   "source": [
    "# Build random policy (uses caching, so faster to access than random_useful_policy):\n",
    "sub_env.build_policy(model='random_policy')\n",
    "sub_env.policy.get_action()\n"
   ]
  },
  {
   "cell_type": "code",
   "execution_count": null,
   "metadata": {},
   "outputs": [],
   "source": [
    "# Perform policy iteration:\n",
    "sub_env.build_transition_matrix(model='reachable')\n",
    "#sub_env.build_transition_matrix(model='exhaustive_fast')\n",
    "sub_env.build_policy(model='policy_iteration')\n",
    "# Query optimal policy:\n",
    "test_state = State(sub_env,vector=[True,True,True,True,True,True,False,False,False,False])\n",
    "sub_env.policy.get_action(test_state)\n"
   ]
  },
  {
   "cell_type": "code",
   "execution_count": null,
   "metadata": {},
   "outputs": [],
   "source": [
    "# Examing action space:\n",
    "sub_env.policy.action_space\n"
   ]
  },
  {
   "cell_type": "code",
   "execution_count": null,
   "metadata": {},
   "outputs": [],
   "source": []
  }
 ],
 "metadata": {
  "kernelspec": {
   "display_name": "cs182",
   "language": "python",
   "name": "cs182"
  },
  "language_info": {
   "codemirror_mode": {
    "name": "ipython",
    "version": 3
   },
   "file_extension": ".py",
   "mimetype": "text/x-python",
   "name": "python",
   "nbconvert_exporter": "python",
   "pygments_lexer": "ipython3",
   "version": "3.7.8"
  }
 },
 "nbformat": 4,
 "nbformat_minor": 4
}
