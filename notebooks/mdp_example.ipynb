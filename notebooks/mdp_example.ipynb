{
 "cells": [
  {
   "cell_type": "code",
   "execution_count": 1,
   "metadata": {},
   "outputs": [],
   "source": [
    "%load_ext autoreload\n",
    "%autoreload 2\n"
   ]
  },
  {
   "cell_type": "code",
   "execution_count": 24,
   "metadata": {},
   "outputs": [],
   "source": [
    "# Modify path to find code directory:\n",
    "import sys\n",
    "sys.path.append('../code/')\n",
    "\n",
    "import networkx as nx\n",
    "import matplotlib.pyplot as plt\n",
    "import scipy as sp\n",
    "import itertools\n"
   ]
  },
  {
   "cell_type": "code",
   "execution_count": 3,
   "metadata": {},
   "outputs": [],
   "source": [
    "from structures import *\n"
   ]
  },
  {
   "cell_type": "code",
   "execution_count": 4,
   "metadata": {},
   "outputs": [
    {
     "output_type": "stream",
     "name": "stdout",
     "text": [
      "<Environment with 0/5 informed agents>\n"
     ]
    }
   ],
   "source": [
    "agents = [\n",
    "    Agent(receptivity=0.5,persuasiveness=0.5),\n",
    "    Agent(receptivity=0.5,persuasiveness=0.5),\n",
    "    Agent(receptivity=0.5,persuasiveness=0.5),\n",
    "    Agent(receptivity=0.5,persuasiveness=0.5),\n",
    "    Agent(receptivity=0.5,persuasiveness=0.5),\n",
    "]\n",
    "\n",
    "# Add some connections (only use inner circle):\n",
    "agents[0].inner_circle.append(agents[1].id)\n",
    "agents[1].inner_circle.append(agents[0].id)\n",
    "agents[1].inner_circle.append(agents[2].id)\n",
    "agents[2].inner_circle.append(agents[1].id)\n",
    "agents[1].inner_circle.append(agents[3].id)\n",
    "agents[3].inner_circle.append(agents[1].id)\n",
    "agents[3].inner_circle.append(agents[4].id)\n",
    "agents[4].inner_circle.append(agents[3].id)\n",
    "\n",
    "# - REMINDER - Do we want to have connections automatically propagate both ways when specified?\n",
    "\n",
    "# Build simulation environment:\n",
    "env = Environment(agents, seed=182)\n",
    "print(env)\n"
   ]
  },
  {
   "cell_type": "code",
   "execution_count": 5,
   "metadata": {},
   "outputs": [
    {
     "output_type": "display_data",
     "data": {
      "text/plain": "<Figure size 432x288 with 1 Axes>",
      "image/svg+xml": "<?xml version=\"1.0\" encoding=\"utf-8\" standalone=\"no\"?>\n<!DOCTYPE svg PUBLIC \"-//W3C//DTD SVG 1.1//EN\"\n  \"http://www.w3.org/Graphics/SVG/1.1/DTD/svg11.dtd\">\n<!-- Created with matplotlib (https://matplotlib.org/) -->\n<svg height=\"231.84pt\" version=\"1.1\" viewBox=\"0 0 349.2 231.84\" width=\"349.2pt\" xmlns=\"http://www.w3.org/2000/svg\" xmlns:xlink=\"http://www.w3.org/1999/xlink\">\n <defs>\n  <style type=\"text/css\">\n*{stroke-linecap:butt;stroke-linejoin:round;white-space:pre;}\n  </style>\n </defs>\n <g id=\"figure_1\">\n  <g id=\"patch_1\">\n   <path d=\"M 0 231.84 \nL 349.2 231.84 \nL 349.2 0 \nL 0 0 \nz\n\" style=\"fill:none;\"/>\n  </g>\n  <g id=\"axes_1\">\n   <g id=\"patch_2\">\n    <path d=\"M 7.2 224.64 \nL 342 224.64 \nL 342 7.2 \nL 7.2 7.2 \nz\n\" style=\"fill:#ffffff;\"/>\n   </g>\n   <g id=\"patch_3\">\n    <path clip-path=\"url(#p4429c4fee6)\" d=\"M 36.252893 86.279956 \nQ 92.098584 99.717893 147.637881 92.592886 \n\" style=\"fill:none;stroke:#000000;stroke-linecap:round;\"/>\n    <path clip-path=\"url(#p4429c4fee6)\" d=\"M 143.415906 91.118123 \nL 147.637881 92.592886 \nL 143.924886 95.085609 \nL 143.415906 91.118123 \nz\n\" style=\"stroke:#000000;stroke-linecap:round;\"/>\n   </g>\n   <g id=\"patch_4\">\n    <path clip-path=\"url(#p4429c4fee6)\" d=\"M 158.643877 91.023933 \nQ 102.798185 77.585996 47.258888 84.711002 \n\" style=\"fill:none;stroke:#000000;stroke-linecap:round;\"/>\n    <path clip-path=\"url(#p4429c4fee6)\" d=\"M 51.480863 86.185765 \nL 47.258888 84.711002 \nL 50.971884 82.21828 \nL 51.480863 86.185765 \nz\n\" style=\"stroke:#000000;stroke-linecap:round;\"/>\n   </g>\n   <g id=\"patch_5\">\n    <path clip-path=\"url(#p4429c4fee6)\" d=\"M 158.643877 91.023933 \nQ 176.579517 65.524432 184.580882 36.850505 \n\" style=\"fill:none;stroke:#000000;stroke-linecap:round;\"/>\n    <path clip-path=\"url(#p4429c4fee6)\" d=\"M 181.579364 40.165756 \nL 184.580882 36.850505 \nL 185.432172 41.24087 \nL 181.579364 40.165756 \nz\n\" style=\"stroke:#000000;stroke-linecap:round;\"/>\n   </g>\n   <g id=\"patch_6\">\n    <path clip-path=\"url(#p4429c4fee6)\" d=\"M 158.643877 91.023933 \nQ 190.746881 126.610618 232.012301 148.026926 \n\" style=\"fill:none;stroke:#000000;stroke-linecap:round;\"/>\n    <path clip-path=\"url(#p4429c4fee6)\" d=\"M 229.383259 144.409173 \nL 232.012301 148.026926 \nL 227.540673 147.959508 \nL 229.383259 144.409173 \nz\n\" style=\"stroke:#000000;stroke-linecap:round;\"/>\n   </g>\n   <g id=\"patch_7\">\n    <path clip-path=\"url(#p4429c4fee6)\" d=\"M 187.308172 26.06876 \nQ 169.372532 51.56826 161.371167 80.242188 \n\" style=\"fill:none;stroke:#000000;stroke-linecap:round;\"/>\n    <path clip-path=\"url(#p4429c4fee6)\" d=\"M 164.372685 76.926937 \nL 161.371167 80.242188 \nL 160.519876 75.851823 \nL 164.372685 76.926937 \nz\n\" style=\"stroke:#000000;stroke-linecap:round;\"/>\n   </g>\n   <g id=\"patch_8\">\n    <path clip-path=\"url(#p4429c4fee6)\" d=\"M 241.962653 152.983683 \nQ 209.859649 117.396997 168.594229 95.980689 \n\" style=\"fill:none;stroke:#000000;stroke-linecap:round;\"/>\n    <path clip-path=\"url(#p4429c4fee6)\" d=\"M 171.223271 99.598442 \nL 168.594229 95.980689 \nL 173.065856 96.048107 \nL 171.223271 99.598442 \nz\n\" style=\"stroke:#000000;stroke-linecap:round;\"/>\n   </g>\n   <g id=\"patch_9\">\n    <path clip-path=\"url(#p4429c4fee6)\" d=\"M 241.962653 152.983683 \nQ 268.813437 182.748302 303.013456 200.778918 \n\" style=\"fill:none;stroke:#000000;stroke-linecap:round;\"/>\n    <path clip-path=\"url(#p4429c4fee6)\" d=\"M 300.407821 197.14427 \nL 303.013456 200.778918 \nL 298.542356 200.682637 \nL 300.407821 197.14427 \nz\n\" style=\"stroke:#000000;stroke-linecap:round;\"/>\n   </g>\n   <g id=\"patch_10\">\n    <path clip-path=\"url(#p4429c4fee6)\" d=\"M 312.947107 205.77124 \nQ 286.096323 176.00662 251.896305 157.976004 \n\" style=\"fill:none;stroke:#000000;stroke-linecap:round;\"/>\n    <path clip-path=\"url(#p4429c4fee6)\" d=\"M 254.501939 161.610652 \nL 251.896305 157.976004 \nL 256.367404 158.072285 \nL 254.501939 161.610652 \nz\n\" style=\"stroke:#000000;stroke-linecap:round;\"/>\n   </g>\n   <g id=\"text_1\">\n    <g id=\"patch_11\">\n     <path clip-path=\"url(#p4429c4fee6)\" d=\"M 85.448175 107.154298 \nL 107.690037 108.182707 \nQ 110.686835 108.321272 110.8254 105.324473 \nL 112.306829 73.284954 \nQ 112.445393 70.288156 109.448595 70.149591 \nL 87.206733 69.121182 \nQ 84.209935 68.982617 84.07137 71.979415 \nL 82.589941 104.018935 \nQ 82.451376 107.015733 85.448175 107.154298 \nz\n\" style=\"fill:#ffffff;stroke:#ffffff;stroke-linejoin:miter;\"/>\n    </g>\n    <g clip-path=\"url(#p4429c4fee6)\">\n     <!-- 0.25 -->\n     <defs>\n      <path d=\"M 31.78125 66.40625 \nQ 24.171875 66.40625 20.328125 58.90625 \nQ 16.5 51.421875 16.5 36.375 \nQ 16.5 21.390625 20.328125 13.890625 \nQ 24.171875 6.390625 31.78125 6.390625 \nQ 39.453125 6.390625 43.28125 13.890625 \nQ 47.125 21.390625 47.125 36.375 \nQ 47.125 51.421875 43.28125 58.90625 \nQ 39.453125 66.40625 31.78125 66.40625 \nz\nM 31.78125 74.21875 \nQ 44.046875 74.21875 50.515625 64.515625 \nQ 56.984375 54.828125 56.984375 36.375 \nQ 56.984375 17.96875 50.515625 8.265625 \nQ 44.046875 -1.421875 31.78125 -1.421875 \nQ 19.53125 -1.421875 13.0625 8.265625 \nQ 6.59375 17.96875 6.59375 36.375 \nQ 6.59375 54.828125 13.0625 64.515625 \nQ 19.53125 74.21875 31.78125 74.21875 \nz\n\" id=\"DejaVuSans-48\"/>\n      <path d=\"M 10.6875 12.40625 \nL 21 12.40625 \nL 21 0 \nL 10.6875 0 \nz\n\" id=\"DejaVuSans-46\"/>\n      <path d=\"M 19.1875 8.296875 \nL 53.609375 8.296875 \nL 53.609375 0 \nL 7.328125 0 \nL 7.328125 8.296875 \nQ 12.9375 14.109375 22.625 23.890625 \nQ 32.328125 33.6875 34.8125 36.53125 \nQ 39.546875 41.84375 41.421875 45.53125 \nQ 43.3125 49.21875 43.3125 52.78125 \nQ 43.3125 58.59375 39.234375 62.25 \nQ 35.15625 65.921875 28.609375 65.921875 \nQ 23.96875 65.921875 18.8125 64.3125 \nQ 13.671875 62.703125 7.8125 59.421875 \nL 7.8125 69.390625 \nQ 13.765625 71.78125 18.9375 73 \nQ 24.125 74.21875 28.421875 74.21875 \nQ 39.75 74.21875 46.484375 68.546875 \nQ 53.21875 62.890625 53.21875 53.421875 \nQ 53.21875 48.921875 51.53125 44.890625 \nQ 49.859375 40.875 45.40625 35.40625 \nQ 44.1875 33.984375 37.640625 27.21875 \nQ 31.109375 20.453125 19.1875 8.296875 \nz\n\" id=\"DejaVuSans-50\"/>\n      <path d=\"M 10.796875 72.90625 \nL 49.515625 72.90625 \nL 49.515625 64.59375 \nL 19.828125 64.59375 \nL 19.828125 46.734375 \nQ 21.96875 47.46875 24.109375 47.828125 \nQ 26.265625 48.1875 28.421875 48.1875 \nQ 40.625 48.1875 47.75 41.5 \nQ 54.890625 34.8125 54.890625 23.390625 \nQ 54.890625 11.625 47.5625 5.09375 \nQ 40.234375 -1.421875 26.90625 -1.421875 \nQ 22.3125 -1.421875 17.546875 -0.640625 \nQ 12.796875 0.140625 7.71875 1.703125 \nL 7.71875 11.625 \nQ 12.109375 9.234375 16.796875 8.0625 \nQ 21.484375 6.890625 26.703125 6.890625 \nQ 35.15625 6.890625 40.078125 11.328125 \nQ 45.015625 15.765625 45.015625 23.390625 \nQ 45.015625 31 40.078125 35.4375 \nQ 35.15625 39.890625 26.703125 39.890625 \nQ 22.75 39.890625 18.8125 39.015625 \nQ 14.890625 38.140625 10.796875 36.28125 \nz\n\" id=\"DejaVuSans-53\"/>\n     </defs>\n     <g style=\"fill:#ff0000;\" transform=\"translate(86.71721 79.708308)rotate(-357.352669)scale(0.1 -0.1)\">\n      <use xlink:href=\"#DejaVuSans-48\"/>\n      <use x=\"63.623047\" xlink:href=\"#DejaVuSans-46\"/>\n      <use x=\"95.410156\" xlink:href=\"#DejaVuSans-50\"/>\n      <use x=\"159.033203\" xlink:href=\"#DejaVuSans-53\"/>\n     </g>\n    </g>\n    <g clip-path=\"url(#p4429c4fee6)\">\n     <!--  -->\n     <g style=\"fill:#ff0000;\" transform=\"translate(97.320934 91.408374)rotate(-357.352669)scale(0.1 -0.1)\"/>\n    </g>\n    <g clip-path=\"url(#p4429c4fee6)\">\n     <!-- 0.25 -->\n     <g style=\"fill:#ff0000;\" transform=\"translate(85.682796 102.080031)rotate(-357.352669)scale(0.1 -0.1)\">\n      <use xlink:href=\"#DejaVuSans-48\"/>\n      <use x=\"63.623047\" xlink:href=\"#DejaVuSans-46\"/>\n      <use x=\"95.410156\" xlink:href=\"#DejaVuSans-50\"/>\n      <use x=\"159.033203\" xlink:href=\"#DejaVuSans-53\"/>\n     </g>\n    </g>\n   </g>\n   <g id=\"text_2\">\n    <g id=\"patch_12\">\n     <path clip-path=\"url(#p4429c4fee6)\" d=\"M 186.967768 75.592555 \nL 194.69295 54.710035 \nQ 195.733816 51.896391 192.920171 50.855524 \nL 162.838792 39.72736 \nQ 160.025147 38.686493 158.984281 41.500138 \nL 151.259099 62.382658 \nQ 150.218233 65.196302 153.031877 66.237169 \nL 183.113257 77.365333 \nQ 185.926902 78.4062 186.967768 75.592555 \nz\n\" style=\"fill:#ffffff;stroke:#ffffff;stroke-linejoin:miter;\"/>\n    </g>\n    <g clip-path=\"url(#p4429c4fee6)\">\n     <!-- 0.25 -->\n     <g style=\"fill:#ff0000;\" transform=\"translate(161.199179 66.059844)rotate(-69.698787)scale(0.1 -0.1)\">\n      <use xlink:href=\"#DejaVuSans-48\"/>\n      <use x=\"63.623047\" xlink:href=\"#DejaVuSans-46\"/>\n      <use x=\"95.410156\" xlink:href=\"#DejaVuSans-50\"/>\n      <use x=\"159.033203\" xlink:href=\"#DejaVuSans-53\"/>\n     </g>\n    </g>\n    <g clip-path=\"url(#p4429c4fee6)\">\n     <!--  -->\n     <g style=\"fill:#ff0000;\" transform=\"translate(175.563991 59.503727)rotate(-69.698787)scale(0.1 -0.1)\"/>\n    </g>\n    <g clip-path=\"url(#p4429c4fee6)\">\n     <!-- 0.25 -->\n     <g style=\"fill:#ff0000;\" transform=\"translate(182.203623 73.830129)rotate(-69.698787)scale(0.1 -0.1)\">\n      <use xlink:href=\"#DejaVuSans-48\"/>\n      <use x=\"63.623047\" xlink:href=\"#DejaVuSans-46\"/>\n      <use x=\"95.410156\" xlink:href=\"#DejaVuSans-50\"/>\n      <use x=\"159.033203\" xlink:href=\"#DejaVuSans-53\"/>\n     </g>\n    </g>\n   </g>\n   <g id=\"text_3\">\n    <g id=\"patch_13\">\n     <path clip-path=\"url(#p4429c4fee6)\" d=\"M 179.341962 128.856974 \nL 195.998353 143.63272 \nQ 198.242583 145.623557 200.23342 143.379328 \nL 221.51796 119.385708 \nQ 223.508798 117.141479 221.264568 115.150641 \nL 204.608177 100.374895 \nQ 202.363947 98.384058 200.37311 100.628287 \nL 179.088569 124.621907 \nQ 177.097732 126.866136 179.341962 128.856974 \nz\n\" style=\"fill:#ffffff;stroke:#ffffff;stroke-linejoin:miter;\"/>\n    </g>\n    <g clip-path=\"url(#p4429c4fee6)\">\n     <!-- 0.25 -->\n     <g style=\"fill:#ff0000;\" transform=\"translate(197.574922 108.303337)rotate(-318.424034)scale(0.1 -0.1)\">\n      <use xlink:href=\"#DejaVuSans-48\"/>\n      <use x=\"63.623047\" xlink:href=\"#DejaVuSans-46\"/>\n      <use x=\"95.410156\" xlink:href=\"#DejaVuSans-50\"/>\n      <use x=\"159.033203\" xlink:href=\"#DejaVuSans-53\"/>\n     </g>\n    </g>\n    <g clip-path=\"url(#p4429c4fee6)\">\n     <!--  -->\n     <g style=\"fill:#ff0000;\" transform=\"translate(198.472109 124.068031)rotate(-318.424034)scale(0.1 -0.1)\"/>\n    </g>\n    <g clip-path=\"url(#p4429c4fee6)\">\n     <!-- 0.25 -->\n     <g style=\"fill:#ff0000;\" transform=\"translate(182.712906 125.056979)rotate(-318.424034)scale(0.1 -0.1)\">\n      <use xlink:href=\"#DejaVuSans-48\"/>\n      <use x=\"63.623047\" xlink:href=\"#DejaVuSans-46\"/>\n      <use x=\"95.410156\" xlink:href=\"#DejaVuSans-50\"/>\n      <use x=\"159.033203\" xlink:href=\"#DejaVuSans-53\"/>\n     </g>\n    </g>\n   </g>\n   <g id=\"text_4\">\n    <g id=\"patch_14\">\n     <path clip-path=\"url(#p4429c4fee6)\" d=\"M 256.493565 186.23059 \nL 273.14993 201.006366 \nQ 275.394156 202.997207 277.384998 200.752981 \nL 298.66958 176.759399 \nQ 300.660422 174.515173 298.416196 172.524332 \nL 281.75983 157.748556 \nQ 279.515604 155.757715 277.524763 158.001941 \nL 256.24018 181.995523 \nQ 254.249339 184.239749 256.493565 186.23059 \nz\n\" style=\"fill:#ffffff;stroke:#ffffff;stroke-linejoin:miter;\"/>\n    </g>\n    <g clip-path=\"url(#p4429c4fee6)\">\n     <!-- 0.25 -->\n     <g style=\"fill:#ff0000;\" transform=\"translate(274.726561 165.676986)rotate(-318.423934)scale(0.1 -0.1)\">\n      <use xlink:href=\"#DejaVuSans-48\"/>\n      <use x=\"63.623047\" xlink:href=\"#DejaVuSans-46\"/>\n      <use x=\"95.410156\" xlink:href=\"#DejaVuSans-50\"/>\n      <use x=\"159.033203\" xlink:href=\"#DejaVuSans-53\"/>\n     </g>\n    </g>\n    <g clip-path=\"url(#p4429c4fee6)\">\n     <!--  -->\n     <g style=\"fill:#ff0000;\" transform=\"translate(275.623721 181.441682)rotate(-318.423934)scale(0.1 -0.1)\"/>\n    </g>\n    <g clip-path=\"url(#p4429c4fee6)\">\n     <!-- 0.25 -->\n     <g style=\"fill:#ff0000;\" transform=\"translate(259.864515 182.430601)rotate(-318.423934)scale(0.1 -0.1)\">\n      <use xlink:href=\"#DejaVuSans-48\"/>\n      <use x=\"63.623047\" xlink:href=\"#DejaVuSans-46\"/>\n      <use x=\"95.410156\" xlink:href=\"#DejaVuSans-50\"/>\n      <use x=\"159.033203\" xlink:href=\"#DejaVuSans-53\"/>\n     </g>\n    </g>\n   </g>\n   <g id=\"matplotlib.axis_1\">\n    <g id=\"xtick_1\"/>\n    <g id=\"xtick_2\"/>\n    <g id=\"xtick_3\"/>\n    <g id=\"xtick_4\"/>\n    <g id=\"xtick_5\"/>\n    <g id=\"xtick_6\"/>\n    <g id=\"xtick_7\"/>\n    <g id=\"xtick_8\"/>\n   </g>\n   <g id=\"matplotlib.axis_2\">\n    <g id=\"ytick_1\"/>\n    <g id=\"ytick_2\"/>\n    <g id=\"ytick_3\"/>\n    <g id=\"ytick_4\"/>\n    <g id=\"ytick_5\"/>\n   </g>\n   <g id=\"PathCollection_1\">\n    <defs>\n     <path d=\"M 0 10 \nC 2.652031 10 5.195799 8.946337 7.071068 7.071068 \nC 8.946337 5.195799 10 2.652031 10 0 \nC 10 -2.652031 8.946337 -5.195799 7.071068 -7.071068 \nC 5.195799 -8.946337 2.652031 -10 0 -10 \nC -2.652031 -10 -5.195799 -8.946337 -7.071068 -7.071068 \nC -8.946337 -5.195799 -10 -2.652031 -10 0 \nC -10 2.652031 -8.946337 5.195799 -7.071068 7.071068 \nC -5.195799 8.946337 -2.652031 10 0 10 \nz\n\" id=\"m1f591532b9\" style=\"stroke:#1f78b4;\"/>\n    </defs>\n    <g clip-path=\"url(#p4429c4fee6)\">\n     <use style=\"fill:#1f78b4;stroke:#1f78b4;\" x=\"36.252893\" xlink:href=\"#m1f591532b9\" y=\"86.279956\"/>\n     <use style=\"fill:#1f78b4;stroke:#1f78b4;\" x=\"158.643877\" xlink:href=\"#m1f591532b9\" y=\"91.023933\"/>\n     <use style=\"fill:#1f78b4;stroke:#1f78b4;\" x=\"187.308172\" xlink:href=\"#m1f591532b9\" y=\"26.06876\"/>\n     <use style=\"fill:#1f78b4;stroke:#1f78b4;\" x=\"241.962653\" xlink:href=\"#m1f591532b9\" y=\"152.983683\"/>\n     <use style=\"fill:#1f78b4;stroke:#1f78b4;\" x=\"312.947107\" xlink:href=\"#m1f591532b9\" y=\"205.77124\"/>\n    </g>\n   </g>\n   <g id=\"patch_15\">\n    <path d=\"M 7.2 224.64 \nL 7.2 7.2 \n\" style=\"fill:none;stroke:#000000;stroke-linecap:square;stroke-linejoin:miter;stroke-width:0.8;\"/>\n   </g>\n   <g id=\"patch_16\">\n    <path d=\"M 342 224.64 \nL 342 7.2 \n\" style=\"fill:none;stroke:#000000;stroke-linecap:square;stroke-linejoin:miter;stroke-width:0.8;\"/>\n   </g>\n   <g id=\"patch_17\">\n    <path d=\"M 7.2 224.64 \nL 342 224.64 \n\" style=\"fill:none;stroke:#000000;stroke-linecap:square;stroke-linejoin:miter;stroke-width:0.8;\"/>\n   </g>\n   <g id=\"patch_18\">\n    <path d=\"M 7.2 7.2 \nL 342 7.2 \n\" style=\"fill:none;stroke:#000000;stroke-linecap:square;stroke-linejoin:miter;stroke-width:0.8;\"/>\n   </g>\n   <g id=\"text_5\">\n    <g clip-path=\"url(#p4429c4fee6)\">\n     <!-- 0 -->\n     <g transform=\"translate(32.435393 89.591206)scale(0.12 -0.12)\">\n      <use xlink:href=\"#DejaVuSans-48\"/>\n     </g>\n    </g>\n   </g>\n   <g id=\"text_6\">\n    <g clip-path=\"url(#p4429c4fee6)\">\n     <!-- 1 -->\n     <defs>\n      <path d=\"M 12.40625 8.296875 \nL 28.515625 8.296875 \nL 28.515625 63.921875 \nL 10.984375 60.40625 \nL 10.984375 69.390625 \nL 28.421875 72.90625 \nL 38.28125 72.90625 \nL 38.28125 8.296875 \nL 54.390625 8.296875 \nL 54.390625 0 \nL 12.40625 0 \nz\n\" id=\"DejaVuSans-49\"/>\n     </defs>\n     <g transform=\"translate(154.826377 94.335183)scale(0.12 -0.12)\">\n      <use xlink:href=\"#DejaVuSans-49\"/>\n     </g>\n    </g>\n   </g>\n   <g id=\"text_7\">\n    <g clip-path=\"url(#p4429c4fee6)\">\n     <!-- 2 -->\n     <g transform=\"translate(183.490672 29.38001)scale(0.12 -0.12)\">\n      <use xlink:href=\"#DejaVuSans-50\"/>\n     </g>\n    </g>\n   </g>\n   <g id=\"text_8\">\n    <g clip-path=\"url(#p4429c4fee6)\">\n     <!-- 3 -->\n     <defs>\n      <path d=\"M 40.578125 39.3125 \nQ 47.65625 37.796875 51.625 33 \nQ 55.609375 28.21875 55.609375 21.1875 \nQ 55.609375 10.40625 48.1875 4.484375 \nQ 40.765625 -1.421875 27.09375 -1.421875 \nQ 22.515625 -1.421875 17.65625 -0.515625 \nQ 12.796875 0.390625 7.625 2.203125 \nL 7.625 11.71875 \nQ 11.71875 9.328125 16.59375 8.109375 \nQ 21.484375 6.890625 26.8125 6.890625 \nQ 36.078125 6.890625 40.9375 10.546875 \nQ 45.796875 14.203125 45.796875 21.1875 \nQ 45.796875 27.640625 41.28125 31.265625 \nQ 36.765625 34.90625 28.71875 34.90625 \nL 20.21875 34.90625 \nL 20.21875 43.015625 \nL 29.109375 43.015625 \nQ 36.375 43.015625 40.234375 45.921875 \nQ 44.09375 48.828125 44.09375 54.296875 \nQ 44.09375 59.90625 40.109375 62.90625 \nQ 36.140625 65.921875 28.71875 65.921875 \nQ 24.65625 65.921875 20.015625 65.03125 \nQ 15.375 64.15625 9.8125 62.3125 \nL 9.8125 71.09375 \nQ 15.4375 72.65625 20.34375 73.4375 \nQ 25.25 74.21875 29.59375 74.21875 \nQ 40.828125 74.21875 47.359375 69.109375 \nQ 53.90625 64.015625 53.90625 55.328125 \nQ 53.90625 49.265625 50.4375 45.09375 \nQ 46.96875 40.921875 40.578125 39.3125 \nz\n\" id=\"DejaVuSans-51\"/>\n     </defs>\n     <g transform=\"translate(238.145153 156.294933)scale(0.12 -0.12)\">\n      <use xlink:href=\"#DejaVuSans-51\"/>\n     </g>\n    </g>\n   </g>\n   <g id=\"text_9\">\n    <g clip-path=\"url(#p4429c4fee6)\">\n     <!-- 4 -->\n     <defs>\n      <path d=\"M 37.796875 64.3125 \nL 12.890625 25.390625 \nL 37.796875 25.390625 \nz\nM 35.203125 72.90625 \nL 47.609375 72.90625 \nL 47.609375 25.390625 \nL 58.015625 25.390625 \nL 58.015625 17.1875 \nL 47.609375 17.1875 \nL 47.609375 0 \nL 37.796875 0 \nL 37.796875 17.1875 \nL 4.890625 17.1875 \nL 4.890625 26.703125 \nz\n\" id=\"DejaVuSans-52\"/>\n     </defs>\n     <g transform=\"translate(309.129607 209.08249)scale(0.12 -0.12)\">\n      <use xlink:href=\"#DejaVuSans-52\"/>\n     </g>\n    </g>\n   </g>\n  </g>\n </g>\n <defs>\n  <clipPath id=\"p4429c4fee6\">\n   <rect height=\"217.44\" width=\"334.8\" x=\"7.2\" y=\"7.2\"/>\n  </clipPath>\n </defs>\n</svg>\n",
      "image/png": "[encoded data removed]"
     },
     "metadata": {}
    }
   ],
   "source": [
    "env.plot_network_graph()\n"
   ]
  },
  {
   "cell_type": "code",
   "execution_count": 127,
   "metadata": {},
   "outputs": [],
   "source": [
    "intervention_n = 2\n",
    "\n",
    "action_space = list(itertools.combinations(env.agent_ids, intervention_n))\n",
    "state_space = list(itertools.product([0,1], repeat=len(env.agent_ids)))\n",
    "\n",
    "T = np.zeros((len(action_space), len(state_space), len(state_space)))\n",
    "\n",
    "for i, actions in enumerate(action_space):\n",
    "    for j, state1 in enumerate(state_space):\n",
    "        for k, state2 in enumerate(state_space):\n",
    "\n",
    "            # Check that the new state is consistent with the action alone\n",
    "            consistent = 0\n",
    "            for action in actions:\n",
    "                if state2[action] == 1:\n",
    "                    consistent += 1\n",
    "                \n",
    "            if consistent == intervention_n:\n",
    "                # Calculate the probabilities of influence occuring to each next state\n",
    "                total_influence_prob = []\n",
    "                for n_state, n_val in enumerate(state2):\n",
    "                    next_state_prob = []\n",
    "                    if n_state in actions:\n",
    "                        next_state_prob.append(0)\n",
    "                    else:\n",
    "                        for c_state, c_val in enumerate(state1):\n",
    "                            if c_val == 1:\n",
    "                                next_state_prob.append(1 - env.influence.matrix[c_state, n_state])\n",
    "                            else:\n",
    "                                next_state_prob.append(1)\n",
    "                    prob_no_influence = np.prod(next_state_prob)\n",
    "                    prob_influence = 1 - prob_no_influence\n",
    "                    if n_val == 0:\n",
    "                        total_influence_prob.append(prob_no_influence)\n",
    "                    else:\n",
    "                        total_influence_prob.append(prob_influence)\n",
    "                if i == 0 and j == 0:\n",
    "                    print(actions, state1, state2, total_influence_prob)\n",
    "\n",
    "                total_probability = np.prod(total_influence_prob)\n",
    "                T[i,j,k] = total_probability\n",
    "\n",
    "                    \n",
    " \n",
    "\n"
   ]
  },
  {
   "cell_type": "code",
   "execution_count": 110,
   "metadata": {},
   "outputs": [
    {
     "output_type": "execute_result",
     "data": {
      "text/plain": [
       "(0, 1)"
      ]
     },
     "metadata": {},
     "execution_count": 110
    }
   ],
   "source": [
    "action_space[0]"
   ]
  },
  {
   "cell_type": "code",
   "execution_count": 140,
   "metadata": {},
   "outputs": [
    {
     "output_type": "execute_result",
     "data": {
      "text/plain": [
       "array([0.  , 0.  , 0.  , 0.  , 0.  , 0.  , 0.  , 0.  , 0.  , 0.  , 0.  ,\n",
       "       0.  , 0.  , 0.  , 0.  , 0.  , 0.  , 0.  , 0.  , 0.  , 0.  , 0.  ,\n",
       "       0.  , 0.  , 0.75, 0.  , 0.25, 0.  , 0.  , 0.  , 0.  , 0.  ])"
      ]
     },
     "metadata": {},
     "execution_count": 140
    }
   ],
   "source": [
    "T[0,1,:]"
   ]
  },
  {
   "cell_type": "code",
   "execution_count": 112,
   "metadata": {},
   "outputs": [
    {
     "output_type": "execute_result",
     "data": {
      "text/plain": [
       "(0, 0, 0, 0, 0)"
      ]
     },
     "metadata": {},
     "execution_count": 112
    }
   ],
   "source": [
    "state_space[0]"
   ]
  },
  {
   "cell_type": "code",
   "execution_count": 116,
   "metadata": {},
   "outputs": [
    {
     "output_type": "execute_result",
     "data": {
      "text/plain": [
       "(1, 1, 0, 0, 0)"
      ]
     },
     "metadata": {},
     "execution_count": 116
    }
   ],
   "source": [
    "state_space[24]"
   ]
  },
  {
   "cell_type": "code",
   "execution_count": 105,
   "metadata": {},
   "outputs": [
    {
     "output_type": "execute_result",
     "data": {
      "text/plain": [
       "0.0"
      ]
     },
     "metadata": {},
     "execution_count": 105
    }
   ],
   "source": []
  },
  {
   "cell_type": "code",
   "execution_count": 69,
   "metadata": {},
   "outputs": [
    {
     "output_type": "execute_result",
     "data": {
      "text/plain": [
       "array([[0., 0., 0., ..., 1., 1., 1.],\n",
       "       [0., 0., 0., ..., 1., 1., 1.],\n",
       "       [0., 0., 0., ..., 1., 1., 1.],\n",
       "       ...,\n",
       "       [0., 0., 0., ..., 1., 1., 1.],\n",
       "       [0., 0., 0., ..., 1., 1., 1.],\n",
       "       [0., 0., 0., ..., 1., 1., 1.]])"
      ]
     },
     "metadata": {},
     "execution_count": 69
    }
   ],
   "source": [
    "T[0,:,:]"
   ]
  },
  {
   "cell_type": "code",
   "execution_count": 51,
   "metadata": {},
   "outputs": [
    {
     "output_type": "execute_result",
     "data": {
      "text/plain": [
       "[(0, 0, 0, 0, 0),\n",
       " (0, 0, 0, 0, 1),\n",
       " (0, 0, 0, 1, 0),\n",
       " (0, 0, 0, 1, 1),\n",
       " (0, 0, 1, 0, 0),\n",
       " (0, 0, 1, 0, 1),\n",
       " (0, 0, 1, 1, 0),\n",
       " (0, 0, 1, 1, 1),\n",
       " (0, 1, 0, 0, 0),\n",
       " (0, 1, 0, 0, 1),\n",
       " (0, 1, 0, 1, 0),\n",
       " (0, 1, 0, 1, 1),\n",
       " (0, 1, 1, 0, 0),\n",
       " (0, 1, 1, 0, 1),\n",
       " (0, 1, 1, 1, 0),\n",
       " (0, 1, 1, 1, 1),\n",
       " (1, 0, 0, 0, 0),\n",
       " (1, 0, 0, 0, 1),\n",
       " (1, 0, 0, 1, 0),\n",
       " (1, 0, 0, 1, 1),\n",
       " (1, 0, 1, 0, 0),\n",
       " (1, 0, 1, 0, 1),\n",
       " (1, 0, 1, 1, 0),\n",
       " (1, 0, 1, 1, 1),\n",
       " (1, 1, 0, 0, 0),\n",
       " (1, 1, 0, 0, 1),\n",
       " (1, 1, 0, 1, 0),\n",
       " (1, 1, 0, 1, 1),\n",
       " (1, 1, 1, 0, 0),\n",
       " (1, 1, 1, 0, 1),\n",
       " (1, 1, 1, 1, 0),\n",
       " (1, 1, 1, 1, 1)]"
      ]
     },
     "metadata": {},
     "execution_count": 51
    }
   ],
   "source": [
    "state_space = list(itertools.product([0,1], repeat=len(env.agent_ids)))\n",
    "state_space"
   ]
  },
  {
   "cell_type": "code",
   "execution_count": 45,
   "metadata": {},
   "outputs": [
    {
     "output_type": "execute_result",
     "data": {
      "text/plain": [
       "(10, 10, 10)"
      ]
     },
     "metadata": {},
     "execution_count": 45
    }
   ],
   "source": [
    "T.shape"
   ]
  },
  {
   "cell_type": "code",
   "execution_count": 40,
   "metadata": {},
   "outputs": [
    {
     "output_type": "stream",
     "name": "stdout",
     "text": [
      "hi\n"
     ]
    }
   ],
   "source": [
    "if 0 in action_space[0]:\n"
   ]
  },
  {
   "cell_type": "code",
   "execution_count": 23,
   "metadata": {},
   "outputs": [
    {
     "output_type": "execute_result",
     "data": {
      "text/plain": [
       "{0: <structures.Agent at 0x11f636390>,\n",
       " 1: <structures.Agent at 0x11f6363c8>,\n",
       " 2: <structures.Agent at 0x11f636400>,\n",
       " 3: <structures.Agent at 0x11f636438>,\n",
       " 4: <structures.Agent at 0x11f636470>}"
      ]
     },
     "metadata": {},
     "execution_count": 23
    }
   ],
   "source": [
    "np.array\n",
    "for agent in env.agents:"
   ]
  },
  {
   "cell_type": "code",
   "execution_count": 28,
   "metadata": {},
   "outputs": [
    {
     "output_type": "execute_result",
     "data": {
      "text/plain": [
       "[(0, 1),\n",
       " (0, 2),\n",
       " (0, 3),\n",
       " (0, 4),\n",
       " (1, 2),\n",
       " (1, 3),\n",
       " (1, 4),\n",
       " (2, 3),\n",
       " (2, 4),\n",
       " (3, 4)]"
      ]
     },
     "metadata": {},
     "execution_count": 28
    }
   ],
   "source": []
  },
  {
   "cell_type": "code",
   "execution_count": null,
   "metadata": {},
   "outputs": [],
   "source": []
  }
 ],
 "metadata": {
  "kernelspec": {
   "display_name": "Python 3",
   "language": "python",
   "name": "python3"
  },
  "language_info": {
   "codemirror_mode": {
    "name": "ipython",
    "version": 3
   },
   "file_extension": ".py",
   "mimetype": "text/x-python",
   "name": "python",
   "nbconvert_exporter": "python",
   "pygments_lexer": "ipython3",
   "version": "3.7.3-final"
  }
 },
 "nbformat": 4,
 "nbformat_minor": 4
}