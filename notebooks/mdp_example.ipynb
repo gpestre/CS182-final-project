{
 "cells": [
  {
   "cell_type": "code",
   "execution_count": 1,
   "metadata": {},
   "outputs": [],
   "source": [
    "%load_ext autoreload\n",
    "%autoreload 2\n"
   ]
  },
  {
   "cell_type": "code",
   "execution_count": 2,
   "metadata": {},
   "outputs": [],
   "source": [
    "# Modify path to find code directory:\n",
    "import sys\n",
    "sys.path.append('../code/')\n",
    "\n",
    "import networkx as nx\n",
    "import matplotlib.pyplot as plt\n",
    "import scipy as sp\n",
    "import itertools\n"
   ]
  },
  {
   "cell_type": "code",
   "execution_count": 3,
   "metadata": {},
   "outputs": [],
   "source": [
    "from structures import *\n",
    "from utils import initialize_rewards, initialize_values, policy_iteration\n"
   ]
  },
  {
   "cell_type": "code",
   "execution_count": 4,
   "metadata": {},
   "outputs": [
    {
     "output_type": "stream",
     "name": "stdout",
     "text": [
      "<Environment with 0/5 informed agents>\n"
     ]
    }
   ],
   "source": [
    "agents = [\n",
    "    Agent(receptivity=0.5,persuasiveness=0.5),\n",
    "    Agent(receptivity=0.5,persuasiveness=0.5),\n",
    "    Agent(receptivity=0.5,persuasiveness=0.5),\n",
    "    Agent(receptivity=0.5,persuasiveness=0.5),\n",
    "    Agent(receptivity=0.5,persuasiveness=0.5),\n",
    "]\n",
    "\n",
    "# Add some connections (only use inner circle):\n",
    "agents[0].inner_circle.append(agents[1].id)\n",
    "agents[1].inner_circle.append(agents[0].id)\n",
    "agents[1].inner_circle.append(agents[2].id)\n",
    "agents[2].inner_circle.append(agents[1].id)\n",
    "agents[1].inner_circle.append(agents[3].id)\n",
    "agents[3].inner_circle.append(agents[1].id)\n",
    "agents[3].inner_circle.append(agents[4].id)\n",
    "agents[4].inner_circle.append(agents[3].id)\n",
    "\n",
    "# - REMINDER - Do we want to have connections automatically propagate both ways when specified?\n",
    "\n",
    "# Build simulation environment:\n",
    "env = Environment(agents, seed=182)\n",
    "print(env)\n"
   ]
  },
  {
   "cell_type": "code",
   "execution_count": 5,
   "metadata": {},
   "outputs": [
    {
     "output_type": "display_data",
     "data": {
      "text/plain": "<Figure size 432x288 with 1 Axes>",
      "image/svg+xml": "<?xml version=\"1.0\" encoding=\"utf-8\" standalone=\"no\"?>\n<!DOCTYPE svg PUBLIC \"-//W3C//DTD SVG 1.1//EN\"\n  \"http://www.w3.org/Graphics/SVG/1.1/DTD/svg11.dtd\">\n<!-- Created with matplotlib (https://matplotlib.org/) -->\n<svg height=\"231.84pt\" version=\"1.1\" viewBox=\"0 0 349.2 231.84\" width=\"349.2pt\" xmlns=\"http://www.w3.org/2000/svg\" xmlns:xlink=\"http://www.w3.org/1999/xlink\">\n <defs>\n  <style type=\"text/css\">\n*{stroke-linecap:butt;stroke-linejoin:round;white-space:pre;}\n  </style>\n </defs>\n <g id=\"figure_1\">\n  <g id=\"patch_1\">\n   <path d=\"M 0 231.84 \nL 349.2 231.84 \nL 349.2 0 \nL 0 0 \nz\n\" style=\"fill:none;\"/>\n  </g>\n  <g id=\"axes_1\">\n   <g id=\"patch_2\">\n    <path d=\"M 7.2 224.64 \nL 342 224.64 \nL 342 7.2 \nL 7.2 7.2 \nz\n\" style=\"fill:#ffffff;\"/>\n   </g>\n   <g id=\"patch_3\">\n    <path clip-path=\"url(#p7228050b48)\" d=\"M 36.252893 64.49825 \nQ 103.001658 86.675973 171.803283 83.34972 \n\" style=\"fill:none;stroke:#000000;stroke-linecap:round;\"/>\n    <path clip-path=\"url(#p7228050b48)\" d=\"M 167.711371 81.54521 \nL 171.803283 83.34972 \nL 167.904527 85.540543 \nL 167.711371 81.54521 \nz\n\" style=\"stroke:#000000;stroke-linecap:round;\"/>\n   </g>\n   <g id=\"patch_4\">\n    <path clip-path=\"url(#p7228050b48)\" d=\"M 182.89733 82.684458 \nQ 116.148564 60.506735 47.34694 63.832988 \n\" style=\"fill:none;stroke:#000000;stroke-linecap:round;\"/>\n    <path clip-path=\"url(#p7228050b48)\" d=\"M 51.438852 65.637499 \nL 47.34694 63.832988 \nL 51.245695 61.642165 \nL 51.438852 65.637499 \nz\n\" style=\"stroke:#000000;stroke-linecap:round;\"/>\n   </g>\n   <g id=\"patch_5\">\n    <path clip-path=\"url(#p7228050b48)\" d=\"M 182.89733 82.684458 \nQ 217.804433 63.522101 243.047111 34.588666 \n\" style=\"fill:none;stroke:#000000;stroke-linecap:round;\"/>\n    <path clip-path=\"url(#p7228050b48)\" d=\"M 238.910402 36.287972 \nL 243.047111 34.588666 \nL 241.92453 38.917617 \nL 238.910402 36.287972 \nz\n\" style=\"stroke:#000000;stroke-linecap:round;\"/>\n   </g>\n   <g id=\"patch_6\">\n    <path clip-path=\"url(#p7228050b48)\" d=\"M 182.89733 82.684458 \nQ 208.463144 118.821396 243.823118 142.998964 \n\" style=\"fill:none;stroke:#000000;stroke-linecap:round;\"/>\n    <path clip-path=\"url(#p7228050b48)\" d=\"M 241.650045 139.090287 \nL 243.823118 142.998964 \nL 239.392333 142.392217 \nL 241.650045 139.090287 \nz\n\" style=\"stroke:#000000;stroke-linecap:round;\"/>\n   </g>\n   <g id=\"patch_7\">\n    <path clip-path=\"url(#p7228050b48)\" d=\"M 250.191047 26.06876 \nQ 215.283944 45.231117 190.041266 74.164552 \n\" style=\"fill:none;stroke:#000000;stroke-linecap:round;\"/>\n    <path clip-path=\"url(#p7228050b48)\" d=\"M 194.177975 72.465247 \nL 190.041266 74.164552 \nL 191.163847 69.835602 \nL 194.177975 72.465247 \nz\n\" style=\"stroke:#000000;stroke-linecap:round;\"/>\n   </g>\n   <g id=\"patch_8\">\n    <path clip-path=\"url(#p7228050b48)\" d=\"M 253.111601 149.11017 \nQ 227.545787 112.973232 192.185813 88.795665 \n\" style=\"fill:none;stroke:#000000;stroke-linecap:round;\"/>\n    <path clip-path=\"url(#p7228050b48)\" d=\"M 194.358887 92.704341 \nL 192.185813 88.795665 \nL 196.616598 89.402412 \nL 194.358887 92.704341 \nz\n\" style=\"stroke:#000000;stroke-linecap:round;\"/>\n   </g>\n   <g id=\"patch_9\">\n    <path clip-path=\"url(#p7228050b48)\" d=\"M 253.111601 149.11017 \nQ 274.46427 179.322441 303.683605 199.619789 \n\" style=\"fill:none;stroke:#000000;stroke-linecap:round;\"/>\n    <path clip-path=\"url(#p7228050b48)\" d=\"M 301.539474 195.695162 \nL 303.683605 199.619789 \nL 299.257425 198.980318 \nL 301.539474 195.695162 \nz\n\" style=\"stroke:#000000;stroke-linecap:round;\"/>\n   </g>\n   <g id=\"patch_10\">\n    <path clip-path=\"url(#p7228050b48)\" d=\"M 312.947107 205.77124 \nQ 291.594439 175.558969 262.375103 155.261621 \n\" style=\"fill:none;stroke:#000000;stroke-linecap:round;\"/>\n    <path clip-path=\"url(#p7228050b48)\" d=\"M 264.519235 159.186248 \nL 262.375103 155.261621 \nL 266.801284 155.901092 \nL 264.519235 159.186248 \nz\n\" style=\"stroke:#000000;stroke-linecap:round;\"/>\n   </g>\n   <g id=\"text_1\">\n    <g id=\"patch_11\">\n     <path clip-path=\"url(#p7228050b48)\" d=\"M 94.990477 90.133136 \nL 116.840848 94.413247 \nQ 119.784898 94.989935 120.361586 92.045885 \nL 126.527107 60.570311 \nQ 127.103796 57.626261 124.159746 57.049572 \nL 102.309375 52.769462 \nQ 99.365325 52.192773 98.788637 55.136823 \nL 92.623115 86.612398 \nQ 92.046427 89.556448 94.990477 90.133136 \nz\n\" style=\"fill:#ffffff;stroke:#ffffff;stroke-linejoin:miter;\"/>\n    </g>\n    <g clip-path=\"url(#p7228050b48)\">\n     <!-- 0.25 -->\n     <defs>\n      <path d=\"M 31.78125 66.40625 \nQ 24.171875 66.40625 20.328125 58.90625 \nQ 16.5 51.421875 16.5 36.375 \nQ 16.5 21.390625 20.328125 13.890625 \nQ 24.171875 6.390625 31.78125 6.390625 \nQ 39.453125 6.390625 43.28125 13.890625 \nQ 47.125 21.390625 47.125 36.375 \nQ 47.125 51.421875 43.28125 58.90625 \nQ 39.453125 66.40625 31.78125 66.40625 \nz\nM 31.78125 74.21875 \nQ 44.046875 74.21875 50.515625 64.515625 \nQ 56.984375 54.828125 56.984375 36.375 \nQ 56.984375 17.96875 50.515625 8.265625 \nQ 44.046875 -1.421875 31.78125 -1.421875 \nQ 19.53125 -1.421875 13.0625 8.265625 \nQ 6.59375 17.96875 6.59375 36.375 \nQ 6.59375 54.828125 13.0625 64.515625 \nQ 19.53125 74.21875 31.78125 74.21875 \nz\n\" id=\"DejaVuSans-48\"/>\n      <path d=\"M 10.6875 12.40625 \nL 21 12.40625 \nL 21 0 \nL 10.6875 0 \nz\n\" id=\"DejaVuSans-46\"/>\n      <path d=\"M 19.1875 8.296875 \nL 53.609375 8.296875 \nL 53.609375 0 \nL 7.328125 0 \nL 7.328125 8.296875 \nQ 12.9375 14.109375 22.625 23.890625 \nQ 32.328125 33.6875 34.8125 36.53125 \nQ 39.546875 41.84375 41.421875 45.53125 \nQ 43.3125 49.21875 43.3125 52.78125 \nQ 43.3125 58.59375 39.234375 62.25 \nQ 35.15625 65.921875 28.609375 65.921875 \nQ 23.96875 65.921875 18.8125 64.3125 \nQ 13.671875 62.703125 7.8125 59.421875 \nL 7.8125 69.390625 \nQ 13.765625 71.78125 18.9375 73 \nQ 24.125 74.21875 28.421875 74.21875 \nQ 39.75 74.21875 46.484375 68.546875 \nQ 53.21875 62.890625 53.21875 53.421875 \nQ 53.21875 48.921875 51.53125 44.890625 \nQ 49.859375 40.875 45.40625 35.40625 \nQ 44.1875 33.984375 37.640625 27.21875 \nQ 31.109375 20.453125 19.1875 8.296875 \nz\n\" id=\"DejaVuSans-50\"/>\n      <path d=\"M 10.796875 72.90625 \nL 49.515625 72.90625 \nL 49.515625 64.59375 \nL 19.828125 64.59375 \nL 19.828125 46.734375 \nQ 21.96875 47.46875 24.109375 47.828125 \nQ 26.265625 48.1875 28.421875 48.1875 \nQ 40.625 48.1875 47.75 41.5 \nQ 54.890625 34.8125 54.890625 23.390625 \nQ 54.890625 11.625 47.5625 5.09375 \nQ 40.234375 -1.421875 26.90625 -1.421875 \nQ 22.3125 -1.421875 17.546875 -0.640625 \nQ 12.796875 0.140625 7.71875 1.703125 \nL 7.71875 11.625 \nQ 12.109375 9.234375 16.796875 8.0625 \nQ 21.484375 6.890625 26.703125 6.890625 \nQ 35.15625 6.890625 40.078125 11.328125 \nQ 45.015625 15.765625 45.015625 23.390625 \nQ 45.015625 31 40.078125 35.4375 \nQ 35.15625 39.890625 26.703125 39.890625 \nQ 22.75 39.890625 18.8125 39.015625 \nQ 14.890625 38.140625 10.796875 36.28125 \nz\n\" id=\"DejaVuSans-53\"/>\n     </defs>\n     <g style=\"fill:#ff0000;\" transform=\"translate(100.272043 63.170238)rotate(-348.917075)scale(0.1 -0.1)\">\n      <use xlink:href=\"#DejaVuSans-48\"/>\n      <use x=\"63.623047\" xlink:href=\"#DejaVuSans-46\"/>\n      <use x=\"95.410156\" xlink:href=\"#DejaVuSans-50\"/>\n      <use x=\"159.033203\" xlink:href=\"#DejaVuSans-53\"/>\n     </g>\n    </g>\n    <g clip-path=\"url(#p7228050b48)\">\n     <!--  -->\n     <g style=\"fill:#ff0000;\" transform=\"translate(109.044678 76.299267)rotate(-348.917075)scale(0.1 -0.1)\"/>\n    </g>\n    <g clip-path=\"url(#p7228050b48)\">\n     <!-- 0.25 -->\n     <g style=\"fill:#ff0000;\" transform=\"translate(95.966942 85.148185)rotate(-348.917075)scale(0.1 -0.1)\">\n      <use xlink:href=\"#DejaVuSans-48\"/>\n      <use x=\"63.623047\" xlink:href=\"#DejaVuSans-46\"/>\n      <use x=\"95.410156\" xlink:href=\"#DejaVuSans-50\"/>\n      <use x=\"159.033203\" xlink:href=\"#DejaVuSans-53\"/>\n     </g>\n    </g>\n   </g>\n   <g id=\"text_2\">\n    <g id=\"patch_12\">\n     <path clip-path=\"url(#p7228050b48)\" d=\"M 225.061243 74.718731 \nL 238.449295 56.927774 \nQ 240.253159 54.530677 237.856062 52.726813 \nL 212.228095 33.441254 \nQ 209.830998 31.637391 208.027134 34.034488 \nL 194.639082 51.825444 \nQ 192.835219 54.222542 195.232316 56.026405 \nL 220.860282 75.311964 \nQ 223.25738 77.115828 225.061243 74.718731 \nz\n\" style=\"fill:#ffffff;stroke:#ffffff;stroke-linejoin:miter;\"/>\n    </g>\n    <g clip-path=\"url(#p7228050b48)\">\n     <!-- 0.25 -->\n     <g style=\"fill:#ff0000;\" transform=\"translate(203.107578 58.198157)rotate(-53.037805)scale(0.1 -0.1)\">\n      <use xlink:href=\"#DejaVuSans-48\"/>\n      <use x=\"63.623047\" xlink:href=\"#DejaVuSans-46\"/>\n      <use x=\"95.410156\" xlink:href=\"#DejaVuSans-50\"/>\n      <use x=\"159.033203\" xlink:href=\"#DejaVuSans-53\"/>\n     </g>\n    </g>\n    <g clip-path=\"url(#p7228050b48)\">\n     <!--  -->\n     <g style=\"fill:#ff0000;\" transform=\"translate(218.749019 56.035788)rotate(-53.037805)scale(0.1 -0.1)\"/>\n    </g>\n    <g clip-path=\"url(#p7228050b48)\">\n     <!-- 0.25 -->\n     <g style=\"fill:#ff0000;\" transform=\"translate(221.002408 71.664376)rotate(-53.037805)scale(0.1 -0.1)\">\n      <use xlink:href=\"#DejaVuSans-48\"/>\n      <use x=\"63.623047\" xlink:href=\"#DejaVuSans-46\"/>\n      <use x=\"95.410156\" xlink:href=\"#DejaVuSans-50\"/>\n      <use x=\"159.033203\" xlink:href=\"#DejaVuSans-53\"/>\n     </g>\n    </g>\n   </g>\n   <g id=\"text_3\">\n    <g id=\"patch_13\">\n     <path clip-path=\"url(#p7228050b48)\" d=\"M 195.99178 117.232897 \nL 208.37523 135.737172 \nQ 210.043738 138.23038 212.536945 136.561873 \nL 239.192451 118.723447 \nQ 241.685659 117.05494 240.017152 114.561732 \nL 227.633701 96.057457 \nQ 225.965194 93.564249 223.471986 95.232756 \nL 196.81648 113.071182 \nQ 194.323273 114.739689 195.99178 117.232897 \nz\n\" style=\"fill:#ffffff;stroke:#ffffff;stroke-linejoin:miter;\"/>\n    </g>\n    <g clip-path=\"url(#p7228050b48)\">\n     <!-- 0.25 -->\n     <g style=\"fill:#ff0000;\" transform=\"translate(218.825666 101.951979)rotate(-303.791272)scale(0.1 -0.1)\">\n      <use xlink:href=\"#DejaVuSans-48\"/>\n      <use x=\"63.623047\" xlink:href=\"#DejaVuSans-46\"/>\n      <use x=\"95.410156\" xlink:href=\"#DejaVuSans-50\"/>\n      <use x=\"159.033203\" xlink:href=\"#DejaVuSans-53\"/>\n     </g>\n    </g>\n    <g clip-path=\"url(#p7228050b48)\">\n     <!--  -->\n     <g style=\"fill:#ff0000;\" transform=\"translate(215.711234 117.431993)rotate(-303.791272)scale(0.1 -0.1)\"/>\n    </g>\n    <g clip-path=\"url(#p7228050b48)\">\n     <!-- 0.25 -->\n     <g style=\"fill:#ff0000;\" transform=\"translate(200.213352 114.407732)rotate(-303.791272)scale(0.1 -0.1)\">\n      <use xlink:href=\"#DejaVuSans-48\"/>\n      <use x=\"63.623047\" xlink:href=\"#DejaVuSans-46\"/>\n      <use x=\"95.410156\" xlink:href=\"#DejaVuSans-50\"/>\n      <use x=\"159.033203\" xlink:href=\"#DejaVuSans-53\"/>\n     </g>\n    </g>\n   </g>\n   <g id=\"text_4\">\n    <g id=\"patch_14\">\n     <path clip-path=\"url(#p7228050b48)\" d=\"M 261.016081 178.766567 \nL 273.391359 197.276309 \nQ 275.058765 199.770253 277.55271 198.102847 \nL 304.21609 180.276193 \nQ 306.710034 178.608787 305.042628 176.114843 \nL 292.667349 157.605101 \nQ 290.999943 155.111157 288.505999 156.778563 \nL 261.842619 174.605217 \nQ 259.348675 176.272623 261.016081 178.766567 \nz\n\" style=\"fill:#ffffff;stroke:#ffffff;stroke-linejoin:miter;\"/>\n    </g>\n    <g clip-path=\"url(#p7228050b48)\">\n     <!-- 0.25 -->\n     <g style=\"fill:#ff0000;\" transform=\"translate(283.856712 163.495734)rotate(-303.765972)scale(0.1 -0.1)\">\n      <use xlink:href=\"#DejaVuSans-48\"/>\n      <use x=\"63.623047\" xlink:href=\"#DejaVuSans-46\"/>\n      <use x=\"95.410156\" xlink:href=\"#DejaVuSans-50\"/>\n      <use x=\"159.033203\" xlink:href=\"#DejaVuSans-53\"/>\n     </g>\n    </g>\n    <g clip-path=\"url(#p7228050b48)\">\n     <!--  -->\n     <g style=\"fill:#ff0000;\" transform=\"translate(280.735445 178.974371)rotate(-303.765972)scale(0.1 -0.1)\"/>\n    </g>\n    <g clip-path=\"url(#p7228050b48)\">\n     <!-- 0.25 -->\n     <g style=\"fill:#ff0000;\" transform=\"translate(265.2389 175.943267)rotate(-303.765972)scale(0.1 -0.1)\">\n      <use xlink:href=\"#DejaVuSans-48\"/>\n      <use x=\"63.623047\" xlink:href=\"#DejaVuSans-46\"/>\n      <use x=\"95.410156\" xlink:href=\"#DejaVuSans-50\"/>\n      <use x=\"159.033203\" xlink:href=\"#DejaVuSans-53\"/>\n     </g>\n    </g>\n   </g>\n   <g id=\"matplotlib.axis_1\">\n    <g id=\"xtick_1\"/>\n    <g id=\"xtick_2\"/>\n    <g id=\"xtick_3\"/>\n    <g id=\"xtick_4\"/>\n    <g id=\"xtick_5\"/>\n    <g id=\"xtick_6\"/>\n    <g id=\"xtick_7\"/>\n   </g>\n   <g id=\"matplotlib.axis_2\">\n    <g id=\"ytick_1\"/>\n    <g id=\"ytick_2\"/>\n    <g id=\"ytick_3\"/>\n    <g id=\"ytick_4\"/>\n    <g id=\"ytick_5\"/>\n    <g id=\"ytick_6\"/>\n    <g id=\"ytick_7\"/>\n    <g id=\"ytick_8\"/>\n   </g>\n   <g id=\"PathCollection_1\">\n    <defs>\n     <path d=\"M 0 10 \nC 2.652031 10 5.195799 8.946337 7.071068 7.071068 \nC 8.946337 5.195799 10 2.652031 10 0 \nC 10 -2.652031 8.946337 -5.195799 7.071068 -7.071068 \nC 5.195799 -8.946337 2.652031 -10 0 -10 \nC -2.652031 -10 -5.195799 -8.946337 -7.071068 -7.071068 \nC -8.946337 -5.195799 -10 -2.652031 -10 0 \nC -10 2.652031 -8.946337 5.195799 -7.071068 7.071068 \nC -5.195799 8.946337 -2.652031 10 0 10 \nz\n\" id=\"mb358b7f9e1\" style=\"stroke:#1f78b4;\"/>\n    </defs>\n    <g clip-path=\"url(#p7228050b48)\">\n     <use style=\"fill:#1f78b4;stroke:#1f78b4;\" x=\"36.252893\" xlink:href=\"#mb358b7f9e1\" y=\"64.49825\"/>\n     <use style=\"fill:#1f78b4;stroke:#1f78b4;\" x=\"182.89733\" xlink:href=\"#mb358b7f9e1\" y=\"82.684458\"/>\n     <use style=\"fill:#1f78b4;stroke:#1f78b4;\" x=\"250.191047\" xlink:href=\"#mb358b7f9e1\" y=\"26.06876\"/>\n     <use style=\"fill:#1f78b4;stroke:#1f78b4;\" x=\"253.111601\" xlink:href=\"#mb358b7f9e1\" y=\"149.11017\"/>\n     <use style=\"fill:#1f78b4;stroke:#1f78b4;\" x=\"312.947107\" xlink:href=\"#mb358b7f9e1\" y=\"205.77124\"/>\n    </g>\n   </g>\n   <g id=\"patch_15\">\n    <path d=\"M 7.2 224.64 \nL 7.2 7.2 \n\" style=\"fill:none;stroke:#000000;stroke-linecap:square;stroke-linejoin:miter;stroke-width:0.8;\"/>\n   </g>\n   <g id=\"patch_16\">\n    <path d=\"M 342 224.64 \nL 342 7.2 \n\" style=\"fill:none;stroke:#000000;stroke-linecap:square;stroke-linejoin:miter;stroke-width:0.8;\"/>\n   </g>\n   <g id=\"patch_17\">\n    <path d=\"M 7.2 224.64 \nL 342 224.64 \n\" style=\"fill:none;stroke:#000000;stroke-linecap:square;stroke-linejoin:miter;stroke-width:0.8;\"/>\n   </g>\n   <g id=\"patch_18\">\n    <path d=\"M 7.2 7.2 \nL 342 7.2 \n\" style=\"fill:none;stroke:#000000;stroke-linecap:square;stroke-linejoin:miter;stroke-width:0.8;\"/>\n   </g>\n   <g id=\"text_5\">\n    <g clip-path=\"url(#p7228050b48)\">\n     <!-- 0 -->\n     <g transform=\"translate(32.435393 67.8095)scale(0.12 -0.12)\">\n      <use xlink:href=\"#DejaVuSans-48\"/>\n     </g>\n    </g>\n   </g>\n   <g id=\"text_6\">\n    <g clip-path=\"url(#p7228050b48)\">\n     <!-- 1 -->\n     <defs>\n      <path d=\"M 12.40625 8.296875 \nL 28.515625 8.296875 \nL 28.515625 63.921875 \nL 10.984375 60.40625 \nL 10.984375 69.390625 \nL 28.421875 72.90625 \nL 38.28125 72.90625 \nL 38.28125 8.296875 \nL 54.390625 8.296875 \nL 54.390625 0 \nL 12.40625 0 \nz\n\" id=\"DejaVuSans-49\"/>\n     </defs>\n     <g transform=\"translate(179.07983 85.995708)scale(0.12 -0.12)\">\n      <use xlink:href=\"#DejaVuSans-49\"/>\n     </g>\n    </g>\n   </g>\n   <g id=\"text_7\">\n    <g clip-path=\"url(#p7228050b48)\">\n     <!-- 2 -->\n     <g transform=\"translate(246.373547 29.38001)scale(0.12 -0.12)\">\n      <use xlink:href=\"#DejaVuSans-50\"/>\n     </g>\n    </g>\n   </g>\n   <g id=\"text_8\">\n    <g clip-path=\"url(#p7228050b48)\">\n     <!-- 3 -->\n     <defs>\n      <path d=\"M 40.578125 39.3125 \nQ 47.65625 37.796875 51.625 33 \nQ 55.609375 28.21875 55.609375 21.1875 \nQ 55.609375 10.40625 48.1875 4.484375 \nQ 40.765625 -1.421875 27.09375 -1.421875 \nQ 22.515625 -1.421875 17.65625 -0.515625 \nQ 12.796875 0.390625 7.625 2.203125 \nL 7.625 11.71875 \nQ 11.71875 9.328125 16.59375 8.109375 \nQ 21.484375 6.890625 26.8125 6.890625 \nQ 36.078125 6.890625 40.9375 10.546875 \nQ 45.796875 14.203125 45.796875 21.1875 \nQ 45.796875 27.640625 41.28125 31.265625 \nQ 36.765625 34.90625 28.71875 34.90625 \nL 20.21875 34.90625 \nL 20.21875 43.015625 \nL 29.109375 43.015625 \nQ 36.375 43.015625 40.234375 45.921875 \nQ 44.09375 48.828125 44.09375 54.296875 \nQ 44.09375 59.90625 40.109375 62.90625 \nQ 36.140625 65.921875 28.71875 65.921875 \nQ 24.65625 65.921875 20.015625 65.03125 \nQ 15.375 64.15625 9.8125 62.3125 \nL 9.8125 71.09375 \nQ 15.4375 72.65625 20.34375 73.4375 \nQ 25.25 74.21875 29.59375 74.21875 \nQ 40.828125 74.21875 47.359375 69.109375 \nQ 53.90625 64.015625 53.90625 55.328125 \nQ 53.90625 49.265625 50.4375 45.09375 \nQ 46.96875 40.921875 40.578125 39.3125 \nz\n\" id=\"DejaVuSans-51\"/>\n     </defs>\n     <g transform=\"translate(249.294101 152.42142)scale(0.12 -0.12)\">\n      <use xlink:href=\"#DejaVuSans-51\"/>\n     </g>\n    </g>\n   </g>\n   <g id=\"text_9\">\n    <g clip-path=\"url(#p7228050b48)\">\n     <!-- 4 -->\n     <defs>\n      <path d=\"M 37.796875 64.3125 \nL 12.890625 25.390625 \nL 37.796875 25.390625 \nz\nM 35.203125 72.90625 \nL 47.609375 72.90625 \nL 47.609375 25.390625 \nL 58.015625 25.390625 \nL 58.015625 17.1875 \nL 47.609375 17.1875 \nL 47.609375 0 \nL 37.796875 0 \nL 37.796875 17.1875 \nL 4.890625 17.1875 \nL 4.890625 26.703125 \nz\n\" id=\"DejaVuSans-52\"/>\n     </defs>\n     <g transform=\"translate(309.129607 209.08249)scale(0.12 -0.12)\">\n      <use xlink:href=\"#DejaVuSans-52\"/>\n     </g>\n    </g>\n   </g>\n  </g>\n </g>\n <defs>\n  <clipPath id=\"p7228050b48\">\n   <rect height=\"217.44\" width=\"334.8\" x=\"7.2\" y=\"7.2\"/>\n  </clipPath>\n </defs>\n</svg>\n",
      "image/png": "[encoded data removed]"
     },
     "metadata": {}
    }
   ],
   "source": [
    "env.plot_network_graph()\n"
   ]
  },
  {
   "cell_type": "code",
   "execution_count": 7,
   "metadata": {},
   "outputs": [
    {
     "output_type": "stream",
     "name": "stdout",
     "text": [
      "20 iterations run - max delta = 0.0349327440464009\n40 iterations run - max delta = 0.00031544667280858363\n60 iterations run - max delta = 1.7495377369058929e-06\n80 iterations run - max delta = 7.856618466917098e-09\n"
     ]
    }
   ],
   "source": [
    "env.update_transition_matrix(intervention_n=1)\n",
    "\n",
    "\n",
    "# Initialize a policy and MDP problem setup\n",
    "initial_policy = np.zeros(len(env.state_space), dtype=int)\n",
    "rewards = initialize_rewards(env.state_space)\n",
    "values = initialize_values(env.state_space)\n",
    "\n",
    "optimal_policy = policy_iteration(env, initial_policy, values, rewards, gamma = 0.99, epsilon=1e-8)"
   ]
  },
  {
   "cell_type": "code",
   "execution_count": 8,
   "metadata": {},
   "outputs": [
    {
     "output_type": "execute_result",
     "data": {
      "text/plain": [
       "array([1, 1, 0, 0, 3, 0, 0, 0, 4, 0, 0, 0, 4, 0, 0, 0, 3, 2, 2, 2, 3, 3,\n",
       "       4, 1, 4, 2, 2, 2, 4, 3, 4, 0])"
      ]
     },
     "metadata": {},
     "execution_count": 8
    }
   ],
   "source": [
    "optimal_policy"
   ]
  },
  {
   "cell_type": "code",
   "execution_count": 212,
   "metadata": {},
   "outputs": [],
   "source": [
    "def initialize_values(state_space):\n",
    "    \"\"\"\n",
    "    Value array for states (1D)\n",
    "    \"\"\"\n",
    "    values = np.zeros(len(state_space))\n",
    "    return values\n",
    "\n",
    "def initialize_rewards(state_space):\n",
    "    \"\"\"\n",
    "    Create a R(s,'s) matrix (reward can be thought of as independent of action)\n",
    "    The reward is equal to the increase in the number of agents influenced\n",
    "    \"\"\"\n",
    "    R = np.zeros((len(state_space), len(state_space)))\n",
    "    for i, state1 in enumerate(state_space):\n",
    "        for j, state2 in enumerate(state_space):\n",
    "            reward = np.max((0, (np.sum(state2) - np.sum(state1))))\n",
    "            R[i,j] = reward\n",
    "    return R\n",
    "    "
   ]
  },
  {
   "cell_type": "code",
   "execution_count": 254,
   "metadata": {},
   "outputs": [],
   "source": [
    "def calculate_policy_value(env, policy, values, rewards, gamma = 0.85, epsilon=0.01):\n",
    "    \"\"\"\n",
    "\n",
    "    \"\"\"\n",
    "    new_values = values.copy()\n",
    "    delta = 1e9 # arbitrarily large number\n",
    "    counter = 0\n",
    "\n",
    "    while True:\n",
    "        deltas = []\n",
    "        for state_index, state in enumerate(env.state_space):\n",
    "            \n",
    "            # Extract the values relevant to the current state\n",
    "            cur_value = new_values[state_index]\n",
    "            cur_action_index = policy[state_index]\n",
    "            \n",
    "            transition_matrix = env.T[cur_action_index,state_index,:]\n",
    "            reward_matrix = rewards[state_index,:].reshape(-1,)\n",
    "\n",
    "            # Calculate the next value using Bellman update\n",
    "            next_value = np.matmul(transition_matrix, (reward_matrix + gamma * new_values))\n",
    "            \n",
    "            # Update the value matrix \n",
    "            new_values[state_index] = next_value\n",
    "            deltas.append(abs(next_value - cur_value))\n",
    "\n",
    "        counter += 1\n",
    "        if counter % 20 == 0:\n",
    "            print(f\"{counter} iterations run - max delta = {np.max(deltas)}\")\n",
    "        if np.max(deltas) < epsilon:\n",
    "            break\n",
    "\n",
    "    return new_values\n"
   ]
  },
  {
   "cell_type": "code",
   "execution_count": 255,
   "metadata": {},
   "outputs": [],
   "source": [
    "def calculate_policy_improvement(env, policy, values, gamma=0.85):\n",
    "    \"\"\"\n",
    "\n",
    "    \"\"\"\n",
    "    stable_policy=True\n",
    "    new_policy = policy.copy()\n",
    "\n",
    "    for state_index, state in enumerate(env.state_space):\n",
    "\n",
    "        old_policy = policy.copy()\n",
    "\n",
    "        # Calculate the value of taking a specific action followed by the\n",
    "        # original policy\n",
    "        action_values = []\n",
    "        for action_index, action in enumerate(env.action_space):\n",
    "            action_value = np.matmul(env.T[action_index, state_index, :], \n",
    "                                     (rewards[state_index,:] + gamma * values))\n",
    "            action_values.append(action_value)\n",
    "        \n",
    "        best_action = np.argmax(action_values)\n",
    "\n",
    "        # Update the policy\n",
    "        new_policy[state_index] = best_action\n",
    "\n",
    "        if new_policy[state_index] != old_policy[state_index]:\n",
    "            stable_policy = False\n",
    "\n",
    "    return new_policy, stable_policy\n"
   ]
  },
  {
   "cell_type": "code",
   "execution_count": 256,
   "metadata": {},
   "outputs": [],
   "source": [
    "def policy_iteration(env, policy, values, rewards, gamma = 0.85, epsilon=0.01):\n",
    "    \"\"\"\n",
    "\n",
    "    \"\"\"\n",
    "    stable = False\n",
    "    new_policy = policy.copy()\n",
    "    new_values = values.copy()\n",
    "\n",
    "    while stable == False:\n",
    "        new_values = calculate_policy_value(env, new_policy, new_values, rewards, gamma = gamma, epsilon=epsilon)\n",
    "        new_policy, stable = calculate_policy_improvement(env, new_policy, new_values, gamma= gamma) \n",
    "\n",
    "    return new_policy       "
   ]
  },
  {
   "cell_type": "code",
   "execution_count": 257,
   "metadata": {
    "tags": []
   },
   "outputs": [
    {
     "output_type": "stream",
     "name": "stdout",
     "text": [
      "20 iterations run - max delta = 0.0349327440464009\n40 iterations run - max delta = 0.00031544667280858363\n60 iterations run - max delta = 1.7495377369058929e-06\n80 iterations run - max delta = 7.856618466917098e-09\n"
     ]
    }
   ],
   "source": [
    "# Implement policy iteration algorithm\n",
    "\n",
    "# Initialize a policy and MDP problem setup\n",
    "initial_policy = np.zeros(len(env.state_space), dtype=int)\n",
    "rewards = initialize_rewards(env.state_space)\n",
    "values = initialize_values(env.state_space)\n",
    "\n",
    "optimal_policy = policy_iteration(env, initial_policy, values, rewards, gamma = 0.99, epsilon=1e-8)"
   ]
  },
  {
   "cell_type": "code",
   "execution_count": 258,
   "metadata": {},
   "outputs": [
    {
     "output_type": "execute_result",
     "data": {
      "text/plain": [
       "array([1, 1, 0, 0, 3, 0, 0, 0, 4, 0, 0, 0, 4, 0, 0, 0, 3, 2, 2, 2, 3, 3,\n",
       "       4, 1, 4, 2, 2, 2, 4, 3, 4, 0])"
      ]
     },
     "metadata": {},
     "execution_count": 258
    }
   ],
   "source": [
    "optimal_policy\n"
   ]
  },
  {
   "cell_type": "code",
   "execution_count": 232,
   "metadata": {},
   "outputs": [
    {
     "output_type": "display_data",
     "data": {
      "text/plain": "<Figure size 432x288 with 1 Axes>",
      "image/svg+xml": "<?xml version=\"1.0\" encoding=\"utf-8\" standalone=\"no\"?>\n<!DOCTYPE svg PUBLIC \"-//W3C//DTD SVG 1.1//EN\"\n  \"http://www.w3.org/Graphics/SVG/1.1/DTD/svg11.dtd\">\n<!-- Created with matplotlib (https://matplotlib.org/) -->\n<svg height=\"231.84pt\" version=\"1.1\" viewBox=\"0 0 349.2 231.84\" width=\"349.2pt\" xmlns=\"http://www.w3.org/2000/svg\" xmlns:xlink=\"http://www.w3.org/1999/xlink\">\n <defs>\n  <style type=\"text/css\">\n*{stroke-linecap:butt;stroke-linejoin:round;white-space:pre;}\n  </style>\n </defs>\n <g id=\"figure_1\">\n  <g id=\"patch_1\">\n   <path d=\"M 0 231.84 \nL 349.2 231.84 \nL 349.2 0 \nL 0 0 \nz\n\" style=\"fill:none;\"/>\n  </g>\n  <g id=\"axes_1\">\n   <g id=\"patch_2\">\n    <path d=\"M 7.2 224.64 \nL 342 224.64 \nL 342 7.2 \nL 7.2 7.2 \nz\n\" style=\"fill:#ffffff;\"/>\n   </g>\n   <g id=\"patch_3\">\n    <path clip-path=\"url(#p0de540f796)\" d=\"M 222.943748 26.06876 \nQ 211.963346 60.666797 213.369316 95.519708 \n\" style=\"fill:none;stroke:#000000;stroke-linecap:round;\"/>\n    <path clip-path=\"url(#p0de540f796)\" d=\"M 215.206461 91.442344 \nL 213.369316 95.519708 \nL 211.209712 91.603573 \nL 215.206461 91.442344 \nz\n\" style=\"stroke:#000000;stroke-linecap:round;\"/>\n   </g>\n   <g id=\"patch_4\">\n    <path clip-path=\"url(#p0de540f796)\" d=\"M 214.05396 106.617499 \nQ 225.034362 72.019462 223.628392 37.166551 \n\" style=\"fill:none;stroke:#000000;stroke-linecap:round;\"/>\n    <path clip-path=\"url(#p0de540f796)\" d=\"M 221.791247 41.243915 \nL 223.628392 37.166551 \nL 225.787996 41.082686 \nL 221.791247 41.243915 \nz\n\" style=\"stroke:#000000;stroke-linecap:round;\"/>\n   </g>\n   <g id=\"patch_5\">\n    <path clip-path=\"url(#p0de540f796)\" d=\"M 214.05396 106.617499 \nQ 256.836616 124.771739 301.834058 126.764646 \n\" style=\"fill:none;stroke:#000000;stroke-linecap:round;\"/>\n    <path clip-path=\"url(#p0de540f796)\" d=\"M 297.926467 124.589621 \nL 301.834058 126.764646 \nL 297.749483 128.585703 \nL 297.926467 124.589621 \nz\n\" style=\"stroke:#000000;stroke-linecap:round;\"/>\n   </g>\n   <g id=\"patch_6\">\n    <path clip-path=\"url(#p0de540f796)\" d=\"M 214.05396 106.617499 \nQ 165.5426 122.226918 126.7693 153.033603 \n\" style=\"fill:none;stroke:#000000;stroke-linecap:round;\"/>\n    <path clip-path=\"url(#p0de540f796)\" d=\"M 131.145273 152.11118 \nL 126.7693 153.033603 \nL 128.656946 148.979371 \nL 131.145273 152.11118 \nz\n\" style=\"stroke:#000000;stroke-linecap:round;\"/>\n   </g>\n   <g id=\"patch_7\">\n    <path clip-path=\"url(#p0de540f796)\" d=\"M 312.947107 127.067316 \nQ 270.164451 108.913075 225.167009 106.920169 \n\" style=\"fill:none;stroke:#000000;stroke-linecap:round;\"/>\n    <path clip-path=\"url(#p0de540f796)\" d=\"M 229.0746 109.095194 \nL 225.167009 106.920169 \nL 229.251584 105.099112 \nL 229.0746 109.095194 \nz\n\" style=\"stroke:#000000;stroke-linecap:round;\"/>\n   </g>\n   <g id=\"patch_8\">\n    <path clip-path=\"url(#p0de540f796)\" d=\"M 118.172652 160.086238 \nQ 166.684012 144.476819 205.457312 113.670134 \n\" style=\"fill:none;stroke:#000000;stroke-linecap:round;\"/>\n    <path clip-path=\"url(#p0de540f796)\" d=\"M 201.081339 114.592557 \nL 205.457312 113.670134 \nL 203.569666 117.724366 \nL 201.081339 114.592557 \nz\n\" style=\"stroke:#000000;stroke-linecap:round;\"/>\n   </g>\n   <g id=\"patch_9\">\n    <path clip-path=\"url(#p0de540f796)\" d=\"M 118.172652 160.086238 \nQ 77.422474 173.199191 44.871572 198.747283 \n\" style=\"fill:none;stroke:#000000;stroke-linecap:round;\"/>\n    <path clip-path=\"url(#p0de540f796)\" d=\"M 49.252959 197.850933 \nL 44.871572 198.747283 \nL 46.783324 194.704363 \nL 49.252959 197.850933 \nz\n\" style=\"stroke:#000000;stroke-linecap:round;\"/>\n   </g>\n   <g id=\"patch_10\">\n    <path clip-path=\"url(#p0de540f796)\" d=\"M 36.252893 205.77124 \nQ 77.003071 192.658287 109.553973 167.110195 \n\" style=\"fill:none;stroke:#000000;stroke-linecap:round;\"/>\n    <path clip-path=\"url(#p0de540f796)\" d=\"M 105.172585 168.006545 \nL 109.553973 167.110195 \nL 107.642221 171.153115 \nL 105.172585 168.006545 \nz\n\" style=\"stroke:#000000;stroke-linecap:round;\"/>\n   </g>\n   <g id=\"text_1\">\n    <g id=\"patch_11\">\n     <path clip-path=\"url(#p0de540f796)\" d=\"M 235.882935 79.912796 \nL 238.849154 57.845635 \nQ 239.248813 54.872376 236.275553 54.472717 \nL 204.487692 50.199862 \nQ 201.514432 49.800203 201.114773 52.773463 \nL 198.148554 74.840624 \nQ 197.748895 77.813884 200.722154 78.213543 \nL 232.510016 82.486397 \nQ 235.483276 82.886056 235.882935 79.912796 \nz\n\" style=\"fill:#ffffff;stroke:#ffffff;stroke-linejoin:miter;\"/>\n    </g>\n    <g clip-path=\"url(#p0de540f796)\">\n     <!-- 0.25 -->\n     <defs>\n      <path d=\"M 31.78125 66.40625 \nQ 24.171875 66.40625 20.328125 58.90625 \nQ 16.5 51.421875 16.5 36.375 \nQ 16.5 21.390625 20.328125 13.890625 \nQ 24.171875 6.390625 31.78125 6.390625 \nQ 39.453125 6.390625 43.28125 13.890625 \nQ 47.125 21.390625 47.125 36.375 \nQ 47.125 51.421875 43.28125 58.90625 \nQ 39.453125 66.40625 31.78125 66.40625 \nz\nM 31.78125 74.21875 \nQ 44.046875 74.21875 50.515625 64.515625 \nQ 56.984375 54.828125 56.984375 36.375 \nQ 56.984375 17.96875 50.515625 8.265625 \nQ 44.046875 -1.421875 31.78125 -1.421875 \nQ 19.53125 -1.421875 13.0625 8.265625 \nQ 6.59375 17.96875 6.59375 36.375 \nQ 6.59375 54.828125 13.0625 64.515625 \nQ 19.53125 74.21875 31.78125 74.21875 \nz\n\" id=\"DejaVuSans-48\"/>\n      <path d=\"M 10.6875 12.40625 \nL 21 12.40625 \nL 21 0 \nL 10.6875 0 \nz\n\" id=\"DejaVuSans-46\"/>\n      <path d=\"M 19.1875 8.296875 \nL 53.609375 8.296875 \nL 53.609375 0 \nL 7.328125 0 \nL 7.328125 8.296875 \nQ 12.9375 14.109375 22.625 23.890625 \nQ 32.328125 33.6875 34.8125 36.53125 \nQ 39.546875 41.84375 41.421875 45.53125 \nQ 43.3125 49.21875 43.3125 52.78125 \nQ 43.3125 58.59375 39.234375 62.25 \nQ 35.15625 65.921875 28.609375 65.921875 \nQ 23.96875 65.921875 18.8125 64.3125 \nQ 13.671875 62.703125 7.8125 59.421875 \nL 7.8125 69.390625 \nQ 13.765625 71.78125 18.9375 73 \nQ 24.125 74.21875 28.421875 74.21875 \nQ 39.75 74.21875 46.484375 68.546875 \nQ 53.21875 62.890625 53.21875 53.421875 \nQ 53.21875 48.921875 51.53125 44.890625 \nQ 49.859375 40.875 45.40625 35.40625 \nQ 44.1875 33.984375 37.640625 27.21875 \nQ 31.109375 20.453125 19.1875 8.296875 \nz\n\" id=\"DejaVuSans-50\"/>\n      <path d=\"M 10.796875 72.90625 \nL 49.515625 72.90625 \nL 49.515625 64.59375 \nL 19.828125 64.59375 \nL 19.828125 46.734375 \nQ 21.96875 47.46875 24.109375 47.828125 \nQ 26.265625 48.1875 28.421875 48.1875 \nQ 40.625 48.1875 47.75 41.5 \nQ 54.890625 34.8125 54.890625 23.390625 \nQ 54.890625 11.625 47.5625 5.09375 \nQ 40.234375 -1.421875 26.90625 -1.421875 \nQ 22.3125 -1.421875 17.546875 -0.640625 \nQ 12.796875 0.140625 7.71875 1.703125 \nL 7.71875 11.625 \nQ 12.109375 9.234375 16.796875 8.0625 \nQ 21.484375 6.890625 26.703125 6.890625 \nQ 35.15625 6.890625 40.078125 11.328125 \nQ 45.015625 15.765625 45.015625 23.390625 \nQ 45.015625 31 40.078125 35.4375 \nQ 35.15625 39.890625 26.703125 39.890625 \nQ 22.75 39.890625 18.8125 39.015625 \nQ 14.890625 38.140625 10.796875 36.28125 \nz\n\" id=\"DejaVuSans-53\"/>\n     </defs>\n     <g style=\"fill:#ff0000;\" transform=\"translate(208.652522 76.252544)rotate(-82.344316)scale(0.1 -0.1)\">\n      <use xlink:href=\"#DejaVuSans-48\"/>\n      <use x=\"63.623047\" xlink:href=\"#DejaVuSans-46\"/>\n      <use x=\"95.410156\" xlink:href=\"#DejaVuSans-50\"/>\n      <use x=\"159.033203\" xlink:href=\"#DejaVuSans-53\"/>\n     </g>\n    </g>\n    <g clip-path=\"url(#p0de540f796)\">\n     <!--  -->\n     <g style=\"fill:#ff0000;\" transform=\"translate(221.233633 66.710733)rotate(-82.344316)scale(0.1 -0.1)\"/>\n    </g>\n    <g clip-path=\"url(#p0de540f796)\">\n     <!-- 0.25 -->\n     <g style=\"fill:#ff0000;\" transform=\"translate(230.848525 79.236082)rotate(-82.344316)scale(0.1 -0.1)\">\n      <use xlink:href=\"#DejaVuSans-48\"/>\n      <use x=\"63.623047\" xlink:href=\"#DejaVuSans-46\"/>\n      <use x=\"95.410156\" xlink:href=\"#DejaVuSans-50\"/>\n      <use x=\"159.033203\" xlink:href=\"#DejaVuSans-53\"/>\n     </g>\n    </g>\n   </g>\n   <g id=\"text_2\">\n    <g id=\"patch_12\">\n     <path clip-path=\"url(#p0de540f796)\" d=\"M 163.916252 155.29532 \nL 184.160702 146.026 \nQ 186.888376 144.777081 185.639457 142.049408 \nL 172.286952 112.887171 \nQ 171.038033 110.159498 168.31036 111.408417 \nL 148.06591 120.677737 \nQ 145.338236 121.926656 146.587155 124.654329 \nL 159.93966 153.816566 \nQ 161.188579 156.544239 163.916252 155.29532 \nz\n\" style=\"fill:#ffffff;stroke:#ffffff;stroke-linejoin:miter;\"/>\n    </g>\n    <g clip-path=\"url(#p0de540f796)\">\n     <!-- 0.25 -->\n     <g style=\"fill:#ff0000;\" transform=\"translate(152.478106 130.314095)rotate(-24.601608)scale(0.1 -0.1)\">\n      <use xlink:href=\"#DejaVuSans-48\"/>\n      <use x=\"63.623047\" xlink:href=\"#DejaVuSans-46\"/>\n      <use x=\"95.410156\" xlink:href=\"#DejaVuSans-50\"/>\n      <use x=\"159.033203\" xlink:href=\"#DejaVuSans-53\"/>\n     </g>\n    </g>\n    <g clip-path=\"url(#p0de540f796)\">\n     <!--  -->\n     <g style=\"fill:#ff0000;\" transform=\"translate(167.262051 135.86076)rotate(-24.601608)scale(0.1 -0.1)\"/>\n    </g>\n    <g clip-path=\"url(#p0de540f796)\">\n     <!-- 0.25 -->\n     <g style=\"fill:#ff0000;\" transform=\"translate(161.801546 150.676744)rotate(-24.601608)scale(0.1 -0.1)\">\n      <use xlink:href=\"#DejaVuSans-48\"/>\n      <use x=\"63.623047\" xlink:href=\"#DejaVuSans-46\"/>\n      <use x=\"95.410156\" xlink:href=\"#DejaVuSans-50\"/>\n      <use x=\"159.033203\" xlink:href=\"#DejaVuSans-53\"/>\n     </g>\n    </g>\n   </g>\n   <g id=\"text_3\">\n    <g id=\"patch_13\">\n     <path clip-path=\"url(#p0de540f796)\" d=\"M 249.338224 133.747174 \nL 271.2897 137.474203 \nQ 274.247373 137.976372 274.749541 135.018699 \nL 280.118347 103.397482 \nQ 280.620515 100.43981 277.662843 99.937641 \nL 255.711367 96.210612 \nQ 252.753694 95.708443 252.251526 98.666116 \nL 246.88272 130.287333 \nQ 246.380552 133.245005 249.338224 133.747174 \nz\n\" style=\"fill:#ffffff;stroke:#ffffff;stroke-linejoin:miter;\"/>\n    </g>\n    <g clip-path=\"url(#p0de540f796)\">\n     <!-- 0.25 -->\n     <g style=\"fill:#ff0000;\" transform=\"translate(253.937301 106.659514)rotate(-350.363932)scale(0.1 -0.1)\">\n      <use xlink:href=\"#DejaVuSans-48\"/>\n      <use x=\"63.623047\" xlink:href=\"#DejaVuSans-46\"/>\n      <use x=\"95.410156\" xlink:href=\"#DejaVuSans-50\"/>\n      <use x=\"159.033203\" xlink:href=\"#DejaVuSans-53\"/>\n     </g>\n    </g>\n    <g clip-path=\"url(#p0de540f796)\">\n     <!--  -->\n     <g style=\"fill:#ff0000;\" transform=\"translate(263.038643 119.56285)rotate(-350.363932)scale(0.1 -0.1)\"/>\n    </g>\n    <g clip-path=\"url(#p0de540f796)\">\n     <!-- 0.25 -->\n     <g style=\"fill:#ff0000;\" transform=\"translate(250.18851 128.739156)rotate(-350.363932)scale(0.1 -0.1)\">\n      <use xlink:href=\"#DejaVuSans-48\"/>\n      <use x=\"63.623047\" xlink:href=\"#DejaVuSans-46\"/>\n      <use x=\"95.410156\" xlink:href=\"#DejaVuSans-50\"/>\n      <use x=\"159.033203\" xlink:href=\"#DejaVuSans-53\"/>\n     </g>\n    </g>\n   </g>\n   <g id=\"text_4\">\n    <g id=\"patch_14\">\n     <path clip-path=\"url(#p0de540f796)\" d=\"M 75.016082 204.872227 \nL 95.260378 195.602572 \nQ 97.988031 194.353608 96.739067 191.625955 \nL 83.38608 162.463939 \nQ 82.137116 159.736287 79.409463 160.985251 \nL 59.165167 170.254906 \nQ 56.437514 171.50387 57.686478 174.231523 \nL 71.039465 203.393539 \nQ 72.288429 206.121191 75.016082 204.872227 \nz\n\" style=\"fill:#ffffff;stroke:#ffffff;stroke-linejoin:miter;\"/>\n    </g>\n    <g clip-path=\"url(#p0de540f796)\">\n     <!-- 0.25 -->\n     <g style=\"fill:#ff0000;\" transform=\"translate(63.577522 179.891191)rotate(-24.602556)scale(0.1 -0.1)\">\n      <use xlink:href=\"#DejaVuSans-48\"/>\n      <use x=\"63.623047\" xlink:href=\"#DejaVuSans-46\"/>\n      <use x=\"95.410156\" xlink:href=\"#DejaVuSans-50\"/>\n      <use x=\"159.033203\" xlink:href=\"#DejaVuSans-53\"/>\n     </g>\n    </g>\n    <g clip-path=\"url(#p0de540f796)\">\n     <!--  -->\n     <g style=\"fill:#ff0000;\" transform=\"translate(78.361559 185.437611)rotate(-24.602556)scale(0.1 -0.1)\"/>\n    </g>\n    <g clip-path=\"url(#p0de540f796)\">\n     <!-- 0.25 -->\n     <g style=\"fill:#ff0000;\" transform=\"translate(72.901299 200.253686)rotate(-24.602556)scale(0.1 -0.1)\">\n      <use xlink:href=\"#DejaVuSans-48\"/>\n      <use x=\"63.623047\" xlink:href=\"#DejaVuSans-46\"/>\n      <use x=\"95.410156\" xlink:href=\"#DejaVuSans-50\"/>\n      <use x=\"159.033203\" xlink:href=\"#DejaVuSans-53\"/>\n     </g>\n    </g>\n   </g>\n   <g id=\"matplotlib.axis_1\">\n    <g id=\"xtick_1\"/>\n    <g id=\"xtick_2\"/>\n    <g id=\"xtick_3\"/>\n    <g id=\"xtick_4\"/>\n    <g id=\"xtick_5\"/>\n   </g>\n   <g id=\"matplotlib.axis_2\">\n    <g id=\"ytick_1\"/>\n    <g id=\"ytick_2\"/>\n    <g id=\"ytick_3\"/>\n    <g id=\"ytick_4\"/>\n    <g id=\"ytick_5\"/>\n    <g id=\"ytick_6\"/>\n    <g id=\"ytick_7\"/>\n    <g id=\"ytick_8\"/>\n   </g>\n   <g id=\"PathCollection_1\">\n    <defs>\n     <path d=\"M 0 10 \nC 2.652031 10 5.195799 8.946337 7.071068 7.071068 \nC 8.946337 5.195799 10 2.652031 10 0 \nC 10 -2.652031 8.946337 -5.195799 7.071068 -7.071068 \nC 5.195799 -8.946337 2.652031 -10 0 -10 \nC -2.652031 -10 -5.195799 -8.946337 -7.071068 -7.071068 \nC -8.946337 -5.195799 -10 -2.652031 -10 0 \nC -10 2.652031 -8.946337 5.195799 -7.071068 7.071068 \nC -5.195799 8.946337 -2.652031 10 0 10 \nz\n\" id=\"m929cbeba77\" style=\"stroke:#1f78b4;\"/>\n    </defs>\n    <g clip-path=\"url(#p0de540f796)\">\n     <use style=\"fill:#1f78b4;stroke:#1f78b4;\" x=\"222.943748\" xlink:href=\"#m929cbeba77\" y=\"26.06876\"/>\n     <use style=\"fill:#1f78b4;stroke:#1f78b4;\" x=\"214.05396\" xlink:href=\"#m929cbeba77\" y=\"106.617499\"/>\n     <use style=\"fill:#1f78b4;stroke:#1f78b4;\" x=\"312.947107\" xlink:href=\"#m929cbeba77\" y=\"127.067316\"/>\n     <use style=\"fill:#1f78b4;stroke:#1f78b4;\" x=\"118.172652\" xlink:href=\"#m929cbeba77\" y=\"160.086238\"/>\n     <use style=\"fill:#1f78b4;stroke:#1f78b4;\" x=\"36.252893\" xlink:href=\"#m929cbeba77\" y=\"205.77124\"/>\n    </g>\n   </g>\n   <g id=\"patch_15\">\n    <path d=\"M 7.2 224.64 \nL 7.2 7.2 \n\" style=\"fill:none;stroke:#000000;stroke-linecap:square;stroke-linejoin:miter;stroke-width:0.8;\"/>\n   </g>\n   <g id=\"patch_16\">\n    <path d=\"M 342 224.64 \nL 342 7.2 \n\" style=\"fill:none;stroke:#000000;stroke-linecap:square;stroke-linejoin:miter;stroke-width:0.8;\"/>\n   </g>\n   <g id=\"patch_17\">\n    <path d=\"M 7.2 224.64 \nL 342 224.64 \n\" style=\"fill:none;stroke:#000000;stroke-linecap:square;stroke-linejoin:miter;stroke-width:0.8;\"/>\n   </g>\n   <g id=\"patch_18\">\n    <path d=\"M 7.2 7.2 \nL 342 7.2 \n\" style=\"fill:none;stroke:#000000;stroke-linecap:square;stroke-linejoin:miter;stroke-width:0.8;\"/>\n   </g>\n   <g id=\"text_5\">\n    <g clip-path=\"url(#p0de540f796)\">\n     <!-- 0 -->\n     <g transform=\"translate(219.126248 29.38001)scale(0.12 -0.12)\">\n      <use xlink:href=\"#DejaVuSans-48\"/>\n     </g>\n    </g>\n   </g>\n   <g id=\"text_6\">\n    <g clip-path=\"url(#p0de540f796)\">\n     <!-- 1 -->\n     <defs>\n      <path d=\"M 12.40625 8.296875 \nL 28.515625 8.296875 \nL 28.515625 63.921875 \nL 10.984375 60.40625 \nL 10.984375 69.390625 \nL 28.421875 72.90625 \nL 38.28125 72.90625 \nL 38.28125 8.296875 \nL 54.390625 8.296875 \nL 54.390625 0 \nL 12.40625 0 \nz\n\" id=\"DejaVuSans-49\"/>\n     </defs>\n     <g transform=\"translate(210.23646 109.928749)scale(0.12 -0.12)\">\n      <use xlink:href=\"#DejaVuSans-49\"/>\n     </g>\n    </g>\n   </g>\n   <g id=\"text_7\">\n    <g clip-path=\"url(#p0de540f796)\">\n     <!-- 2 -->\n     <g transform=\"translate(309.129607 130.378566)scale(0.12 -0.12)\">\n      <use xlink:href=\"#DejaVuSans-50\"/>\n     </g>\n    </g>\n   </g>\n   <g id=\"text_8\">\n    <g clip-path=\"url(#p0de540f796)\">\n     <!-- 3 -->\n     <defs>\n      <path d=\"M 40.578125 39.3125 \nQ 47.65625 37.796875 51.625 33 \nQ 55.609375 28.21875 55.609375 21.1875 \nQ 55.609375 10.40625 48.1875 4.484375 \nQ 40.765625 -1.421875 27.09375 -1.421875 \nQ 22.515625 -1.421875 17.65625 -0.515625 \nQ 12.796875 0.390625 7.625 2.203125 \nL 7.625 11.71875 \nQ 11.71875 9.328125 16.59375 8.109375 \nQ 21.484375 6.890625 26.8125 6.890625 \nQ 36.078125 6.890625 40.9375 10.546875 \nQ 45.796875 14.203125 45.796875 21.1875 \nQ 45.796875 27.640625 41.28125 31.265625 \nQ 36.765625 34.90625 28.71875 34.90625 \nL 20.21875 34.90625 \nL 20.21875 43.015625 \nL 29.109375 43.015625 \nQ 36.375 43.015625 40.234375 45.921875 \nQ 44.09375 48.828125 44.09375 54.296875 \nQ 44.09375 59.90625 40.109375 62.90625 \nQ 36.140625 65.921875 28.71875 65.921875 \nQ 24.65625 65.921875 20.015625 65.03125 \nQ 15.375 64.15625 9.8125 62.3125 \nL 9.8125 71.09375 \nQ 15.4375 72.65625 20.34375 73.4375 \nQ 25.25 74.21875 29.59375 74.21875 \nQ 40.828125 74.21875 47.359375 69.109375 \nQ 53.90625 64.015625 53.90625 55.328125 \nQ 53.90625 49.265625 50.4375 45.09375 \nQ 46.96875 40.921875 40.578125 39.3125 \nz\n\" id=\"DejaVuSans-51\"/>\n     </defs>\n     <g transform=\"translate(114.355152 163.397488)scale(0.12 -0.12)\">\n      <use xlink:href=\"#DejaVuSans-51\"/>\n     </g>\n    </g>\n   </g>\n   <g id=\"text_9\">\n    <g clip-path=\"url(#p0de540f796)\">\n     <!-- 4 -->\n     <defs>\n      <path d=\"M 37.796875 64.3125 \nL 12.890625 25.390625 \nL 37.796875 25.390625 \nz\nM 35.203125 72.90625 \nL 47.609375 72.90625 \nL 47.609375 25.390625 \nL 58.015625 25.390625 \nL 58.015625 17.1875 \nL 47.609375 17.1875 \nL 47.609375 0 \nL 37.796875 0 \nL 37.796875 17.1875 \nL 4.890625 17.1875 \nL 4.890625 26.703125 \nz\n\" id=\"DejaVuSans-52\"/>\n     </defs>\n     <g transform=\"translate(32.435393 209.08249)scale(0.12 -0.12)\">\n      <use xlink:href=\"#DejaVuSans-52\"/>\n     </g>\n    </g>\n   </g>\n  </g>\n </g>\n <defs>\n  <clipPath id=\"p0de540f796\">\n   <rect height=\"217.44\" width=\"334.8\" x=\"7.2\" y=\"7.2\"/>\n  </clipPath>\n </defs>\n</svg>\n",
      "image/png": "[encoded data removed]"
     },
     "metadata": {}
    }
   ],
   "source": [
    "env.plot_network_graph()"
   ]
  },
  {
   "cell_type": "code",
   "execution_count": 218,
   "metadata": {},
   "outputs": [
    {
     "output_type": "execute_result",
     "data": {
      "text/plain": [
       "[(0, 0, 0, 0, 0),\n",
       " (0, 0, 0, 0, 1),\n",
       " (0, 0, 0, 1, 0),\n",
       " (0, 0, 0, 1, 1),\n",
       " (0, 0, 1, 0, 0),\n",
       " (0, 0, 1, 0, 1),\n",
       " (0, 0, 1, 1, 0),\n",
       " (0, 0, 1, 1, 1),\n",
       " (0, 1, 0, 0, 0),\n",
       " (0, 1, 0, 0, 1),\n",
       " (0, 1, 0, 1, 0),\n",
       " (0, 1, 0, 1, 1),\n",
       " (0, 1, 1, 0, 0),\n",
       " (0, 1, 1, 0, 1),\n",
       " (0, 1, 1, 1, 0),\n",
       " (0, 1, 1, 1, 1),\n",
       " (1, 0, 0, 0, 0),\n",
       " (1, 0, 0, 0, 1),\n",
       " (1, 0, 0, 1, 0),\n",
       " (1, 0, 0, 1, 1),\n",
       " (1, 0, 1, 0, 0),\n",
       " (1, 0, 1, 0, 1),\n",
       " (1, 0, 1, 1, 0),\n",
       " (1, 0, 1, 1, 1),\n",
       " (1, 1, 0, 0, 0),\n",
       " (1, 1, 0, 0, 1),\n",
       " (1, 1, 0, 1, 0),\n",
       " (1, 1, 0, 1, 1),\n",
       " (1, 1, 1, 0, 0),\n",
       " (1, 1, 1, 0, 1),\n",
       " (1, 1, 1, 1, 0),\n",
       " (1, 1, 1, 1, 1)]"
      ]
     },
     "metadata": {},
     "execution_count": 218
    }
   ],
   "source": [
    "env.state_space\n"
   ]
  },
  {
   "cell_type": "code",
   "execution_count": 219,
   "metadata": {},
   "outputs": [
    {
     "output_type": "execute_result",
     "data": {
      "text/plain": [
       "[(0,), (1,), (2,), (3,), (4,)]"
      ]
     },
     "metadata": {},
     "execution_count": 219
    }
   ],
   "source": [
    "env.action_space\n"
   ]
  },
  {
   "cell_type": "code",
   "execution_count": null,
   "metadata": {},
   "outputs": [],
   "source": []
  }
 ],
 "metadata": {
  "kernelspec": {
   "display_name": "Python 3",
   "language": "python",
   "name": "python3"
  },
  "language_info": {
   "codemirror_mode": {
    "name": "ipython",
    "version": 3
   },
   "file_extension": ".py",
   "mimetype": "text/x-python",
   "name": "python",
   "nbconvert_exporter": "python",
   "pygments_lexer": "ipython3",
   "version": "3.7.3-final"
  }
 },
 "nbformat": 4,
 "nbformat_minor": 4
}