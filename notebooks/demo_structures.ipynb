{
 "cells": [
  {
   "cell_type": "code",
   "execution_count": 1,
   "metadata": {},
   "outputs": [],
   "source": [
    "%load_ext autoreload\n",
    "%autoreload 2\n"
   ]
  },
  {
   "cell_type": "code",
   "execution_count": 2,
   "metadata": {},
   "outputs": [],
   "source": [
    "# Modify path to find code directory:\n",
    "import sys\n",
    "sys.path.append('../code/')\n"
   ]
  },
  {
   "cell_type": "code",
   "execution_count": 3,
   "metadata": {},
   "outputs": [],
   "source": [
    "from structures import *\n"
   ]
  },
  {
   "cell_type": "code",
   "execution_count": 4,
   "metadata": {},
   "outputs": [
    {
     "name": "stdout",
     "output_type": "stream",
     "text": [
      "<Environment with 1/3 informed agents>\n"
     ]
    }
   ],
   "source": [
    "# Define a list of agents:\n",
    "agents = [\n",
    "    Agent(),\n",
    "    Agent(),\n",
    "    Agent(),\n",
    "]\n",
    "\n",
    "# Add some connections (inner circle):\n",
    "agents[0].inner_circle.append(agents[1].id)\n",
    "\n",
    "# Add some connections (outer circle):\n",
    "agents[0].outer_circle.append(agents[2].id)\n",
    "agents[2].outer_circle.append(agents[1].id)\n",
    "\n",
    "# Add some informed agents:\n",
    "agents[1].informed = True\n",
    "\n",
    "# Build simulation environment:\n",
    "env = Environment(agents, seed=182)\n",
    "print(env)\n"
   ]
  },
  {
   "cell_type": "code",
   "execution_count": 5,
   "metadata": {},
   "outputs": [
    {
     "name": "stdout",
     "output_type": "stream",
     "text": [
      "\n",
      "1 connections:\n",
      "[[False  True False]\n",
      " [False False False]\n",
      " [False False False]]\n",
      "\n",
      "2 connections:\n",
      "[[False  True  True]\n",
      " [False False False]\n",
      " [False False False]]\n"
     ]
    }
   ],
   "source": [
    "# Show inner circle adjacency matrix (converted to numpy array):\n",
    "print(f\"\\n{env.inner.n_connections} connections:\")\n",
    "print(env.inner.toarray())\n",
    "\n",
    "# Add connection and update matrix:\n",
    "env.inner.add_connection(agents[0], agents[2])\n",
    "env.inner.update()\n",
    "\n",
    "# Show updated adjacency matrix (converted to numpy array):\n",
    "print(f\"\\n{env.inner.n_connections} connections:\")\n",
    "print(env.inner.toarray())\n"
   ]
  },
  {
   "cell_type": "code",
   "execution_count": 6,
   "metadata": {},
   "outputs": [
    {
     "name": "stdout",
     "output_type": "stream",
     "text": [
      "<State with 1/3 informed agents>\n"
     ]
    }
   ],
   "source": [
    "# Show state:\n",
    "print(env.state)\n"
   ]
  },
  {
   "cell_type": "code",
   "execution_count": 7,
   "metadata": {},
   "outputs": [
    {
     "name": "stdout",
     "output_type": "stream",
     "text": [
      "<Action with 2/3 selected agents>\n",
      "<Action with 1/3 selected agents>\n"
     ]
    }
   ],
   "source": [
    "# Define a proposed intervention:\n",
    "intervention1 = Action(env, selected=[0,2])\n",
    "print(intervention1)\n",
    "\n",
    "# Define another proposed intervention:\n",
    "intervention2 = intervention1.copy()\n",
    "intervention2.selected[0] = False\n",
    "print(intervention2)\n"
   ]
  },
  {
   "cell_type": "code",
   "execution_count": 8,
   "metadata": {},
   "outputs": [
    {
     "data": {
      "text/plain": [
       "2.1"
      ]
     },
     "execution_count": 8,
     "metadata": {},
     "output_type": "execute_result"
    }
   ],
   "source": [
    "# Call function that estimates value of intervention:\n",
    "intervention2.get_value(method='random')\n"
   ]
  },
  {
   "cell_type": "code",
   "execution_count": 9,
   "metadata": {},
   "outputs": [
    {
     "data": {
      "text/plain": [
       "[(9.4, <structures.Action at 0x229c003ae48>),\n",
       " (8.9, <structures.Action at 0x229c003ae88>)]"
      ]
     },
     "execution_count": 9,
     "metadata": {},
     "output_type": "execute_result"
    }
   ],
   "source": [
    "# Call helper function that sorts interventions (best to worst):\n",
    "Action.sort_actions([intervention1,intervention2])\n"
   ]
  },
  {
   "cell_type": "code",
   "execution_count": 10,
   "metadata": {},
   "outputs": [
    {
     "name": "stdout",
     "output_type": "stream",
     "text": [
      "agent_id: [0, 1, 2]\n",
      "selected: [False False  True]\n"
     ]
    }
   ],
   "source": [
    "# Get action as a boolean array (in same order as matrix):\n",
    "print(\"agent_id:\",env.agent_ids)\n",
    "print(\"selected:\",intervention2.vector)\n"
   ]
  },
  {
   "cell_type": "code",
   "execution_count": 11,
   "metadata": {},
   "outputs": [
    {
     "name": "stdout",
     "output_type": "stream",
     "text": [
      "agent_id: [0, 1, 2]\n",
      "informed: [False  True  True]\n"
     ]
    }
   ],
   "source": [
    "# Encode the state where only the agent with id=2 is informed:\n",
    "state1 = State(env,informed=[1,2])\n",
    "\n",
    "# Get state as a boolean array (in same order as matrix):\n",
    "print(\"agent_id:\",env.agent_ids)\n",
    "print(\"informed:\",state1.vector)\n"
   ]
  },
  {
   "cell_type": "code",
   "execution_count": 12,
   "metadata": {},
   "outputs": [
    {
     "name": "stdout",
     "output_type": "stream",
     "text": [
      "before: <State with 1/3 informed agents> {0: False, 1: True, 2: False}\n",
      "before: <State with 2/3 informed agents> {0: False, 1: True, 2: True}\n"
     ]
    }
   ],
   "source": [
    "# Manually apply specific state:\n",
    "print(\"before:\",env.state,env.state.informed)\n",
    "env.update_state(state1)\n",
    "print(\"before:\",env.state,env.state.informed)\n"
   ]
  },
  {
   "cell_type": "code",
   "execution_count": null,
   "metadata": {},
   "outputs": [],
   "source": []
  }
 ],
 "metadata": {
  "kernelspec": {
   "display_name": "Python 3",
   "language": "python",
   "name": "python3"
  },
  "language_info": {
   "codemirror_mode": {
    "name": "ipython",
    "version": 3
   },
   "file_extension": ".py",
   "mimetype": "text/x-python",
   "name": "python",
   "nbconvert_exporter": "python",
   "pygments_lexer": "ipython3",
   "version": "3.7.8"
  }
 },
 "nbformat": 4,
 "nbformat_minor": 4
}
